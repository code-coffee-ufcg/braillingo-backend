{
 "cells": [
  {
   "cell_type": "markdown",
   "source": [
    "# Classificador utilizando Redes Neurais Convolucionais\r\n",
    "***"
   ],
   "metadata": {}
  },
  {
   "cell_type": "markdown",
   "source": [
    "## Instalação dos pacotes\r\n",
    "***"
   ],
   "metadata": {}
  },
  {
   "cell_type": "code",
   "execution_count": 2,
   "source": [
    "# pacote de inteligência artificial\r\n",
    "import tensorflow as tf\r\n",
    "# pacote de gerenciamento de conjuntos de dados\r\n",
    "import pandas as pd"
   ],
   "outputs": [],
   "metadata": {}
  },
  {
   "cell_type": "markdown",
   "source": [
    "## Organizando o Dataframe\r\n",
    "***"
   ],
   "metadata": {}
  },
  {
   "cell_type": "code",
   "execution_count": 19,
   "source": [
    "# conjunto de dados de treinamento, validação e teste\r\n",
    "train_dataframe = pd.read_csv('../csv-data/braille_character1.csv', delimiter = ',', \r\n",
    "                              header = 0, usecols = ['Path', 'Labels'])\r\n",
    "validation_dataframe = pd.read_csv('../csv-data/braille_character2.csv', delimiter = ',',\r\n",
    "                                   header = 0, usecols = ['Path', 'Labels'])\r\n",
    "test_dataframe = pd.read_csv('../csv-data/braille_character3.csv', delimiter = ',',\r\n",
    "                             header = 0, usecols = ['Path', 'Labels'])"
   ],
   "outputs": [],
   "metadata": {}
  },
  {
   "cell_type": "code",
   "execution_count": 23,
   "source": [
    "train_files = train_dataframe['Path']\r\n",
    "\r\n",
    "for i in range(0, len(train_files)):\r\n",
    "    train_files[i] = '../files/'"
   ],
   "outputs": [],
   "metadata": {}
  },
  {
   "cell_type": "code",
   "execution_count": 26,
   "source": [],
   "outputs": [
    {
     "output_type": "execute_result",
     "data": {
      "text/plain": [
       "'image1-1.tiff'"
      ]
     },
     "metadata": {},
     "execution_count": 26
    }
   ],
   "metadata": {}
  },
  {
   "cell_type": "code",
   "execution_count": 17,
   "source": [
    "len(validation_dataframe)"
   ],
   "outputs": [
    {
     "output_type": "execute_result",
     "data": {
      "text/plain": [
       "1326"
      ]
     },
     "metadata": {},
     "execution_count": 17
    }
   ],
   "metadata": {}
  },
  {
   "cell_type": "code",
   "execution_count": 18,
   "source": [
    "len(train_dataframe)"
   ],
   "outputs": [
    {
     "output_type": "execute_result",
     "data": {
      "text/plain": [
       "1326"
      ]
     },
     "metadata": {},
     "execution_count": 18
    }
   ],
   "metadata": {}
  }
 ],
 "metadata": {
  "orig_nbformat": 4,
  "language_info": {
   "name": "python",
   "version": "3.8.8",
   "mimetype": "text/x-python",
   "codemirror_mode": {
    "name": "ipython",
    "version": 3
   },
   "pygments_lexer": "ipython3",
   "nbconvert_exporter": "python",
   "file_extension": ".py"
  },
  "kernelspec": {
   "name": "python3",
   "display_name": "Python 3.8.8 64-bit ('base': conda)"
  },
  "interpreter": {
   "hash": "1de5f8a4b5b587cbc145288bce217672fd590a96c616aba42da42832e697a42d"
  }
 },
 "nbformat": 4,
 "nbformat_minor": 2
}