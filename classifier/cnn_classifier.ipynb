{
 "cells": [
  {
   "cell_type": "markdown",
   "source": [
    "# Classificador utilizando Redes Neurais Convolucionais\r\n",
    "***"
   ],
   "metadata": {}
  },
  {
   "cell_type": "markdown",
   "source": [
    "## Instalação dos pacotes\r\n",
    "***"
   ],
   "metadata": {}
  },
  {
   "cell_type": "code",
   "execution_count": 2,
   "source": [
    "# pacote de inteligência artificial\r\n",
    "import tensorflow as tf\r\n",
    "# pacote de gerenciamento de conjuntos de dados\r\n",
    "import pandas as pd"
   ],
   "outputs": [],
   "metadata": {}
  },
  {
   "cell_type": "markdown",
   "source": [
    "## Organizando o Dataframe\r\n",
    "***"
   ],
   "metadata": {}
  },
  {
   "cell_type": "code",
   "execution_count": 31,
   "source": [
    "# conjunto de dados de treinamento, validação e teste\r\n",
    "train_dataframe = pd.read_csv('../csv_data/braille_character1.csv', delimiter = ',', \r\n",
    "                              header = 0, usecols = ['Path', 'Labels'])\r\n",
    "validation_dataframe = pd.read_csv('../csv_data/braille_character2.csv', delimiter = ',',\r\n",
    "                                   header = 0, usecols = ['Path', 'Labels'])\r\n",
    "test_dataframe = pd.read_csv('../csv_data/braille_character3.csv', delimiter = ',',\r\n",
    "                             header = 0, usecols = ['Path', 'Labels'])"
   ],
   "outputs": [],
   "metadata": {}
  },
  {
   "cell_type": "code",
   "execution_count": null,
   "source": [
    "# organizando a referência aos arquivos de treinamento\r\n",
    "train_files = train_dataframe['Path']\r\n",
    "\r\n",
    "for i in range(0, len(train_files)):\r\n",
    "    train_files[i] = '../files/images1/'+train_files[i]"
   ],
   "outputs": [],
   "metadata": {}
  },
  {
   "cell_type": "code",
   "execution_count": 34,
   "source": [
    "train_dataframe['Path'] = train_files"
   ],
   "outputs": [],
   "metadata": {}
  },
  {
   "cell_type": "code",
   "execution_count": 35,
   "source": [
    "train_dataframe"
   ],
   "outputs": [
    {
     "output_type": "execute_result",
     "data": {
      "text/html": [
       "<div>\n",
       "<style scoped>\n",
       "    .dataframe tbody tr th:only-of-type {\n",
       "        vertical-align: middle;\n",
       "    }\n",
       "\n",
       "    .dataframe tbody tr th {\n",
       "        vertical-align: top;\n",
       "    }\n",
       "\n",
       "    .dataframe thead th {\n",
       "        text-align: right;\n",
       "    }\n",
       "</style>\n",
       "<table border=\"1\" class=\"dataframe\">\n",
       "  <thead>\n",
       "    <tr style=\"text-align: right;\">\n",
       "      <th></th>\n",
       "      <th>Path</th>\n",
       "      <th>Labels</th>\n",
       "    </tr>\n",
       "  </thead>\n",
       "  <tbody>\n",
       "    <tr>\n",
       "      <th>0</th>\n",
       "      <td>../files/images1/image1-1.tiff</td>\n",
       "      <td>1</td>\n",
       "    </tr>\n",
       "    <tr>\n",
       "      <th>1</th>\n",
       "      <td>../files/images1/image1-10.tiff</td>\n",
       "      <td>1</td>\n",
       "    </tr>\n",
       "    <tr>\n",
       "      <th>2</th>\n",
       "      <td>../files/images1/image1-11.tiff</td>\n",
       "      <td>1</td>\n",
       "    </tr>\n",
       "    <tr>\n",
       "      <th>3</th>\n",
       "      <td>../files/images1/image1-12.tiff</td>\n",
       "      <td>1</td>\n",
       "    </tr>\n",
       "    <tr>\n",
       "      <th>4</th>\n",
       "      <td>../files/images1/image1-13.tiff</td>\n",
       "      <td>1</td>\n",
       "    </tr>\n",
       "    <tr>\n",
       "      <th>...</th>\n",
       "      <td>...</td>\n",
       "      <td>...</td>\n",
       "    </tr>\n",
       "    <tr>\n",
       "      <th>1321</th>\n",
       "      <td>../files/images1/image9-6.tiff</td>\n",
       "      <td>26</td>\n",
       "    </tr>\n",
       "    <tr>\n",
       "      <th>1322</th>\n",
       "      <td>../files/images1/image9-7.tiff</td>\n",
       "      <td>26</td>\n",
       "    </tr>\n",
       "    <tr>\n",
       "      <th>1323</th>\n",
       "      <td>../files/images1/image9-8.tiff</td>\n",
       "      <td>26</td>\n",
       "    </tr>\n",
       "    <tr>\n",
       "      <th>1324</th>\n",
       "      <td>../files/images1/image9-9.tiff</td>\n",
       "      <td>26</td>\n",
       "    </tr>\n",
       "    <tr>\n",
       "      <th>1325</th>\n",
       "      <td>../files/images1/image9.tiff</td>\n",
       "      <td>26</td>\n",
       "    </tr>\n",
       "  </tbody>\n",
       "</table>\n",
       "<p>1326 rows × 2 columns</p>\n",
       "</div>"
      ],
      "text/plain": [
       "                                 Path  Labels\n",
       "0      ../files/images1/image1-1.tiff       1\n",
       "1     ../files/images1/image1-10.tiff       1\n",
       "2     ../files/images1/image1-11.tiff       1\n",
       "3     ../files/images1/image1-12.tiff       1\n",
       "4     ../files/images1/image1-13.tiff       1\n",
       "...                               ...     ...\n",
       "1321   ../files/images1/image9-6.tiff      26\n",
       "1322   ../files/images1/image9-7.tiff      26\n",
       "1323   ../files/images1/image9-8.tiff      26\n",
       "1324   ../files/images1/image9-9.tiff      26\n",
       "1325     ../files/images1/image9.tiff      26\n",
       "\n",
       "[1326 rows x 2 columns]"
      ]
     },
     "metadata": {},
     "execution_count": 35
    }
   ],
   "metadata": {}
  },
  {
   "cell_type": "code",
   "execution_count": 18,
   "source": [
    "len(train_dataframe)"
   ],
   "outputs": [
    {
     "output_type": "execute_result",
     "data": {
      "text/plain": [
       "1326"
      ]
     },
     "metadata": {},
     "execution_count": 18
    }
   ],
   "metadata": {}
  }
 ],
 "metadata": {
  "orig_nbformat": 4,
  "language_info": {
   "name": "python",
   "version": "3.8.8",
   "mimetype": "text/x-python",
   "codemirror_mode": {
    "name": "ipython",
    "version": 3
   },
   "pygments_lexer": "ipython3",
   "nbconvert_exporter": "python",
   "file_extension": ".py"
  },
  "kernelspec": {
   "name": "python3",
   "display_name": "Python 3.8.8 64-bit ('base': conda)"
  },
  "interpreter": {
   "hash": "1de5f8a4b5b587cbc145288bce217672fd590a96c616aba42da42832e697a42d"
  }
 },
 "nbformat": 4,
 "nbformat_minor": 2
}