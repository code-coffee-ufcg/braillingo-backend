{
 "cells": [
  {
   "cell_type": "markdown",
   "source": [
    "# Aumento de Dados\r\n",
    "***"
   ],
   "metadata": {}
  },
  {
   "cell_type": "markdown",
   "source": [
    "### Importação dos pacotes\r\n",
    "***"
   ],
   "metadata": {}
  },
  {
   "cell_type": "code",
   "execution_count": 3,
   "source": [
    "# pacote de visão computacional\r\n",
    "import cv2\r\n",
    "# pacotes de procedimentos numéricos usando matrizes\r\n",
    "import numpy as np\r\n",
    "# pacote para gerenciamento de bases de dados\r\n",
    "import pandas as pd\r\n",
    "# pacote para realização de operações com imagens digitais\r\n",
    "from PIL import Image\r\n",
    "# pacote de visualização gráfica\r\n",
    "import matplotlib.pyplot as plt"
   ],
   "outputs": [],
   "metadata": {}
  },
  {
   "cell_type": "markdown",
   "source": [
    "### Carregando as imagens originais\r\n",
    "***"
   ],
   "metadata": {}
  },
  {
   "cell_type": "code",
   "execution_count": 9,
   "source": [
    "# carregando as imagens em um array multidimensional\r\n",
    "images = []\r\n",
    "for i in range(0, 26):\r\n",
    "    images.append(plt.imread('../original_images/images/image'+str(i+1)+'.tiff'))\r\n",
    "\r\n",
    "images = np.array(images)"
   ],
   "outputs": [],
   "metadata": {}
  },
  {
   "cell_type": "code",
   "execution_count": 14,
   "source": [
    "# carregando os rótulos das imagens em um array\r\n",
    "alphabet = 'abcdefghijklmnopqrstuvwxyz'\r\n",
    "labels = []\r\n",
    "for i in range(0, 26):\r\n",
    "    labels.append(alphabet[i])\r\n",
    "\r\n",
    "labels = np.array(labels)"
   ],
   "outputs": [],
   "metadata": {}
  },
  {
   "cell_type": "markdown",
   "source": [
    "### Transformações Geométricas\r\n",
    "***"
   ],
   "metadata": {}
  },
  {
   "cell_type": "code",
   "execution_count": 20,
   "source": [
    "def translate(image, Tx = 0, Ty = 0):\r\n",
    "    '''\r\n",
    "    Função que translada uma imagem na vertical e horizontal\r\n",
    "    ''' \r\n",
    "\r\n",
    "    rows, cols = image.shape\r\n",
    "    img = image.copy()\r\n",
    "    matrix = np.array( [ [1, 0, Tx], [0, 1, Ty] ], dtype=np.float32)\r\n",
    "    dst_img = cv2.warpAffine(img, matrix, (cols, rows))\r\n",
    "\r\n",
    "    return dst_img"
   ],
   "outputs": [],
   "metadata": {}
  },
  {
   "cell_type": "code",
   "execution_count": 21,
   "source": [
    "def rotation(image, theta=0):\r\n",
    "    '''\r\n",
    "    Função que rotaciona uma imagem para a esquerda e para direita\r\n",
    "    '''\r\n",
    "    \r\n",
    "    rows, cols = image.shape\r\n",
    "    img = image.copy()\r\n",
    "    matrix = cv2.getRotationMatrix2D( (cols/2, rows/2),  theta , 1)\r\n",
    "    dst_img = cv2.warpAffine(img, matrix, (cols, rows))\r\n",
    "\r\n",
    "    return dst_img"
   ],
   "outputs": [],
   "metadata": {}
  },
  {
   "cell_type": "markdown",
   "source": [
    "### Testando as transformações geométricas\r\n",
    "***"
   ],
   "metadata": {}
  },
  {
   "cell_type": "code",
   "execution_count": 57,
   "source": [
    "# definindo intervalos úteis para variar as transformações geométricas\r\n",
    "theta = np.arange(-10,10)\r\n",
    "Tx = np.arange(-5, 5)\r\n",
    "Ty = np.arange(-5, 5)\r\n",
    "p_translate = np.concatenate((np.array([Tx, np.zeros(Ty.shape)]),np.array([np.zeros(Ty.shape), Ty])), axis = 1)\r\n",
    "p_translate = np.concatenate((p_translate, np.array([Tx, Ty])), axis = 1)"
   ],
   "outputs": [],
   "metadata": {}
  },
  {
   "cell_type": "code",
   "execution_count": 59,
   "source": [
    "# salvando imagens com transformações geométricas de rotação\r\n",
    "for i in range(0, 26):\r\n",
    "    for j in range(0, 20):\r\n",
    "        img = Image.fromarray(rotation(image = images[i], theta = theta[j]))\r\n",
    "        img.save('../original_images/images/image'+str(i+1)+'-'+str(j+1)+'.tiff')"
   ],
   "outputs": [],
   "metadata": {}
  },
  {
   "cell_type": "code",
   "execution_count": null,
   "source": [
    "images.shape"
   ],
   "outputs": [],
   "metadata": {}
  }
 ],
 "metadata": {
  "orig_nbformat": 4,
  "language_info": {
   "name": "python",
   "version": "3.8.8",
   "mimetype": "text/x-python",
   "codemirror_mode": {
    "name": "ipython",
    "version": 3
   },
   "pygments_lexer": "ipython3",
   "nbconvert_exporter": "python",
   "file_extension": ".py"
  },
  "kernelspec": {
   "name": "python3",
   "display_name": "Python 3.8.8 64-bit ('base': conda)"
  },
  "interpreter": {
   "hash": "1de5f8a4b5b587cbc145288bce217672fd590a96c616aba42da42832e697a42d"
  }
 },
 "nbformat": 4,
 "nbformat_minor": 2
}