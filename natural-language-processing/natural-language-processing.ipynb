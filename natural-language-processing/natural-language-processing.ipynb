{
  "nbformat": 4,
  "nbformat_minor": 0,
  "metadata": {
    "colab": {
      "name": "natural-language-processing.ipynb",
      "provenance": [],
      "collapsed_sections": []
    },
    "kernelspec": {
      "name": "python3",
      "display_name": "Python 3"
    },
    "language_info": {
      "name": "python"
    }
  },
  "cells": [
    {
      "cell_type": "markdown",
      "metadata": {
        "id": "cl2I5jPqWf3T"
      },
      "source": [
        "# Aplicação do Corretor Ortográfico\n",
        "***"
      ]
    },
    {
      "cell_type": "markdown",
      "metadata": {
        "id": "xN4ntJg8ZDXQ"
      },
      "source": [
        "### 0. Importação dos Pacotes\n",
        "***"
      ]
    },
    {
      "cell_type": "code",
      "metadata": {
        "id": "Br_aqMo_ZGGk"
      },
      "source": [
        "import nltk"
      ],
      "execution_count": 2,
      "outputs": []
    },
    {
      "cell_type": "markdown",
      "metadata": {
        "id": "lic9mx0dWsos"
      },
      "source": [
        "### 1. Conhecendo o Conteúdo do Arquivo\n",
        "***\n",
        "O arquivo contém o texto de vários artigos publicados na plataforma da Alura. Esse conteúdo será o nosso \"Corpus\". \"Corpus\", na linguística, é o conjunto de textos escritos e registros orais em uma determinada língua e que serve como base de análise."
      ]
    },
    {
      "cell_type": "markdown",
      "metadata": {
        "id": "hKk34GVXX3DA"
      },
      "source": [
        "Primeiro abrimos o `arquivo.txt` e armazenamos o seu conteúdo em uma variável."
      ]
    },
    {
      "cell_type": "code",
      "metadata": {
        "colab": {
          "base_uri": "https://localhost:8080/"
        },
        "id": "GCRUOB7EmwMv",
        "outputId": "f0e9a2ff-3343-4b8c-a4e0-f6a3f5225f00"
      },
      "source": [
        "# abrindo o arquivo txt, armazenando o seu conteúdo em uma variável\n",
        "with open('artigos.txt', mode = 'r') as f:\n",
        "  treinamento = f.read()\n",
        "\n",
        "# mostrando uma parte do conteúdo do arquivo\n",
        "print(treinamento[:500])"
      ],
      "execution_count": 3,
      "outputs": [
        {
          "output_type": "stream",
          "name": "stdout",
          "text": [
            "\n",
            "\n",
            "\n",
            "imagem \n",
            "\n",
            "Temos a seguinte classe que representa um usuário no nosso sistema:\n",
            "\n",
            "java\n",
            "\n",
            "Para salvar um novo usuário, várias validações são feitas, como por exemplo: Ver se o nome só contém letras, [**o CPF só números**] e ver se o usuário possui no mínimo 18 anos. Veja o método que faz essa validação:\n",
            "\n",
            "java \n",
            "\n",
            "Suponha agora que eu tenha outra classe, a classe `Produto`, que contém um atributo nome e eu quero fazer a mesma validação que fiz para o nome do usuário: Ver se só contém letras. E aí? Vou\n"
          ]
        }
      ]
    },
    {
      "cell_type": "markdown",
      "metadata": {
        "id": "Tog49_9YYACw"
      },
      "source": [
        "Depois fazemos a \"tokenização\", que nada mais é que separar o texto em \"tokens\"."
      ]
    },
    {
      "cell_type": "markdown",
      "metadata": {
        "id": "P56Uw-y1YI8w"
      },
      "source": [
        "Token é uma sequência de caracteres, separados por um limitador, que pode ser um espaço em branco, pontuação ou quebra de linhas, por exemplo."
      ]
    },
    {
      "cell_type": "code",
      "metadata": {
        "colab": {
          "base_uri": "https://localhost:8080/"
        },
        "id": "PBxLh3FrYFso",
        "outputId": "b54a786b-7127-499a-b827-138947be7e49"
      },
      "source": [
        "# mostrando quantos caracteres têm no arquivo\n",
        "len(treinamento)"
      ],
      "execution_count": 4,
      "outputs": [
        {
          "output_type": "execute_result",
          "data": {
            "text/plain": [
              "2605046"
            ]
          },
          "metadata": {},
          "execution_count": 4
        }
      ]
    },
    {
      "cell_type": "markdown",
      "metadata": {
        "id": "t9tTCj_mYYi8"
      },
      "source": [
        "### 2. Fatiando o Conteúdo do Arquivo\n",
        "***\n",
        "Precisamos saber quantas palavras existem e não quantos caracteres."
      ]
    },
    {
      "cell_type": "code",
      "metadata": {
        "colab": {
          "base_uri": "https://localhost:8080/"
        },
        "id": "C22exo8IYlF5",
        "outputId": "66900377-5bf5-4fdf-8017-3c0ee3a25477"
      },
      "source": [
        "# um texto de exemplo\n",
        "texto_exemplo = 'Olá, tudo bem?'\n",
        "\n",
        "# \"tokenizando\" o texto de exemplo utilizando o método split()\n",
        "tokens = texto_exemplo.split()\n",
        "\n",
        "# mostrando o resultado de \"tokenização\" do texto de exemplo utilizando o método split()\n",
        "print(tokens)"
      ],
      "execution_count": 5,
      "outputs": [
        {
          "output_type": "stream",
          "name": "stdout",
          "text": [
            "['Olá,', 'tudo', 'bem?']\n"
          ]
        }
      ]
    },
    {
      "cell_type": "code",
      "metadata": {
        "colab": {
          "base_uri": "https://localhost:8080/"
        },
        "id": "ty1R-4GnY9gA",
        "outputId": "517a7c7f-af8d-44d6-8158-c46a8da3f6cb"
      },
      "source": [
        "# mostrando o tamanho da lista de tokens criadas\n",
        "len(tokens)"
      ],
      "execution_count": 6,
      "outputs": [
        {
          "output_type": "execute_result",
          "data": {
            "text/plain": [
              "3"
            ]
          },
          "metadata": {},
          "execution_count": 6
        }
      ]
    },
    {
      "cell_type": "code",
      "metadata": {
        "colab": {
          "base_uri": "https://localhost:8080/"
        },
        "id": "IhV_bWvcZOKE",
        "outputId": "3fd72828-a830-425e-9b48-9d20306a25bd"
      },
      "source": [
        "# baizando o pacote punkt\n",
        "nltk.download('punkt')"
      ],
      "execution_count": 7,
      "outputs": [
        {
          "output_type": "stream",
          "name": "stdout",
          "text": [
            "[nltk_data] Downloading package punkt to /root/nltk_data...\n",
            "[nltk_data]   Unzipping tokenizers/punkt.zip.\n"
          ]
        },
        {
          "output_type": "execute_result",
          "data": {
            "text/plain": [
              "True"
            ]
          },
          "metadata": {},
          "execution_count": 7
        }
      ]
    },
    {
      "cell_type": "code",
      "metadata": {
        "colab": {
          "base_uri": "https://localhost:8080/"
        },
        "id": "7LJqPsFXZWMM",
        "outputId": "bcc9007f-6f1b-4460-8ef6-c061530b9a26"
      },
      "source": [
        "# \"tokenizando\" o texto de exemplo utilizando a biblioteca nltk\n",
        "palavras_separadas = nltk.tokenize.word_tokenize(texto_exemplo)\n",
        "\n",
        "# mostrando o resultado da \"tokenização\" do texto de exemplo utilizando a biblioteca nltk\n",
        "print(palavras_separadas)"
      ],
      "execution_count": 8,
      "outputs": [
        {
          "output_type": "stream",
          "name": "stdout",
          "text": [
            "['Olá', ',', 'tudo', 'bem', '?']\n"
          ]
        }
      ]
    },
    {
      "cell_type": "code",
      "metadata": {
        "colab": {
          "base_uri": "https://localhost:8080/"
        },
        "id": "Gb3KKEZFZttF",
        "outputId": "d396fa90-b790-48a5-924d-99be71f59274"
      },
      "source": [
        "# mostrando o tamanho da lista de tokens criadas no exemplo\n",
        "len(palavras_separadas)"
      ],
      "execution_count": 9,
      "outputs": [
        {
          "output_type": "execute_result",
          "data": {
            "text/plain": [
              "5"
            ]
          },
          "metadata": {},
          "execution_count": 9
        }
      ]
    },
    {
      "cell_type": "markdown",
      "metadata": {
        "id": "52bgyHXYZzF6"
      },
      "source": [
        "Podemos notar que, utilizando a biblioteca nltk, foi possível separar os caracteres especiais das palavras encontradas, mas eles ainda estão todos juntos em uma única lista. "
      ]
    },
    {
      "cell_type": "markdown",
      "metadata": {
        "id": "W2g6LtboZ_Z0"
      },
      "source": [
        "### 2.1. Separando as Palavras\n",
        "***\n",
        "Separando somente as palavras"
      ]
    },
    {
      "cell_type": "code",
      "metadata": {
        "colab": {
          "base_uri": "https://localhost:8080/"
        },
        "id": "wlDAWoUSc_z8",
        "outputId": "6c81e24b-f893-4043-c1c6-a32c4c801f69"
      },
      "source": [
        "# verificando a existência de alfabeto em strings\n",
        "'abc'.isalpha()"
      ],
      "execution_count": 10,
      "outputs": [
        {
          "output_type": "execute_result",
          "data": {
            "text/plain": [
              "True"
            ]
          },
          "metadata": {},
          "execution_count": 10
        }
      ]
    },
    {
      "cell_type": "code",
      "metadata": {
        "colab": {
          "base_uri": "https://localhost:8080/"
        },
        "id": "RO3FfAuHdFoU",
        "outputId": "3d15740e-b4c6-46bc-9b8f-aa7c596e9d98"
      },
      "source": [
        "# verificando a existência de alfabeto em strings\n",
        "',/.'.isalpha()"
      ],
      "execution_count": 11,
      "outputs": [
        {
          "output_type": "execute_result",
          "data": {
            "text/plain": [
              "False"
            ]
          },
          "metadata": {},
          "execution_count": 11
        }
      ]
    },
    {
      "cell_type": "code",
      "metadata": {
        "id": "7kNQjYJWaHaQ"
      },
      "source": [
        "def separa_palavras(lista_tokens):\n",
        "  '''Função para separação de palavras'''\n",
        "\n",
        "  # criando uma lista vazia para armazenar as palavras separadas dos caracteres especiais\n",
        "  lista_palavras = []\n",
        "\n",
        "  # iterando por toda a lista de tokens\n",
        "  for token in lista_tokens:\n",
        "    # separando as palavras dos caracteres especiais\n",
        "    if token.isalpha():\n",
        "      lista_palavras.append(token)\n",
        "\n",
        "  # retornando uma lista somente com as palavras\n",
        "  return lista_palavras"
      ],
      "execution_count": 12,
      "outputs": []
    },
    {
      "cell_type": "code",
      "metadata": {
        "colab": {
          "base_uri": "https://localhost:8080/"
        },
        "id": "WQHorYG3ax3x",
        "outputId": "4d6d7c61-83d2-44a2-9ea1-e3c004b09058"
      },
      "source": [
        "# testando a função 'separa_palavras()'\n",
        "separa_palavras(palavras_separadas)"
      ],
      "execution_count": 13,
      "outputs": [
        {
          "output_type": "execute_result",
          "data": {
            "text/plain": [
              "['Olá', 'tudo', 'bem']"
            ]
          },
          "metadata": {},
          "execution_count": 13
        }
      ]
    },
    {
      "cell_type": "markdown",
      "metadata": {
        "id": "MnL387ifa6-w"
      },
      "source": [
        "Teste da função concluído. Agora vamos testar com o arquivo de artigos."
      ]
    },
    {
      "cell_type": "code",
      "metadata": {
        "colab": {
          "base_uri": "https://localhost:8080/"
        },
        "id": "fS51o0USbAnU",
        "outputId": "f56eed58-3594-41ed-b500-e2d5b3e3af36"
      },
      "source": [
        "#  \"Tokenizando\" o nosso corpus utilizando a biblioteca nltk\n",
        "lista_tokens = nltk.tokenize.word_tokenize(treinamento)\n",
        "\n",
        "# chamando a função separa_palavras() passando o nosso corpus como parâmetro\n",
        "lista_palavras = separa_palavras(lista_tokens)\n",
        "\n",
        "# mostrando o total de palavras em nosso corpus\n",
        "print('O número total de palavras em nosso corpus é {}'.format(len(lista_palavras)))"
      ],
      "execution_count": 14,
      "outputs": [
        {
          "output_type": "stream",
          "name": "stdout",
          "text": [
            "O número total de palavras em nosso corpus é 393914\n"
          ]
        }
      ]
    },
    {
      "cell_type": "code",
      "metadata": {
        "colab": {
          "base_uri": "https://localhost:8080/"
        },
        "id": "-Wv2e351bgst",
        "outputId": "a562df61-1808-4478-e747-e0cd6c2b043b"
      },
      "source": [
        "# uma pequena amostra do resultado obtido até aqui\n",
        "print(lista_palavras[:5])"
      ],
      "execution_count": 15,
      "outputs": [
        {
          "output_type": "stream",
          "name": "stdout",
          "text": [
            "['imagem', 'Temos', 'a', 'seguinte', 'classe']\n"
          ]
        }
      ]
    },
    {
      "cell_type": "markdown",
      "metadata": {
        "id": "BROCFbb1bnzH"
      },
      "source": [
        "### 3. Normalização\n",
        "***\n",
        "Normalizar as palavras é simplemente deixá-las em um mesmo padrão, por exemplo, mantes todas as letras minúsculas."
      ]
    },
    {
      "cell_type": "markdown",
      "metadata": {
        "id": "CjSp6r2NbzNg"
      },
      "source": [
        "Essa etapa é importante para ajudar o corretor a trabalhar por sí só."
      ]
    },
    {
      "cell_type": "code",
      "metadata": {
        "id": "Kq7hX1T3b3-4"
      },
      "source": [
        "def normalizacao(lista_palavras):\n",
        "  '''Função que aplica a normalização nas listas de palavras'''\n",
        "\n",
        "  # criando uma lista vazia para armazenar as palavras normalizadas\n",
        "  lista_normalizada = []\n",
        "  \n",
        "  # iterando por toda a lista de palavras\n",
        "  for palavra in lista_palavras:\n",
        "\n",
        "    # armazenando as palavras normalizadas\n",
        "    lista_normalizada.append(palavra.lower())\n",
        "  \n",
        "  # retornando uma lista com as palavras normalizadas\n",
        "  return lista_normalizada"
      ],
      "execution_count": 16,
      "outputs": []
    },
    {
      "cell_type": "code",
      "metadata": {
        "colab": {
          "base_uri": "https://localhost:8080/"
        },
        "id": "9gbndJc7cWnm",
        "outputId": "42bf44fd-e87f-4bfb-8a76-f7877a1d65c3"
      },
      "source": [
        "# chamando a função normalizacao()\n",
        "lista_normalizada = normalizacao(lista_palavras)\n",
        "\n",
        "# uma pequena amostra dos resultados obtidos\n",
        "print(lista_normalizada[:5])"
      ],
      "execution_count": 17,
      "outputs": [
        {
          "output_type": "stream",
          "name": "stdout",
          "text": [
            "['imagem', 'temos', 'a', 'seguinte', 'classe']\n"
          ]
        }
      ]
    },
    {
      "cell_type": "markdown",
      "metadata": {
        "id": "siiJ8boxcrWI"
      },
      "source": [
        "Note que agora temos somente letras minúsculas. Mas quantas palavras de fatos existem no Corpus? Para responder isso, basta utilizarmos o método set() do Python."
      ]
    },
    {
      "cell_type": "code",
      "metadata": {
        "colab": {
          "base_uri": "https://localhost:8080/"
        },
        "id": "xlD_nLwdcnI1",
        "outputId": "3c50fdd4-6fce-4ad2-bce8-29436cef7f60"
      },
      "source": [
        "# testando a função set() do Python\n",
        "set([1,2,2,3,4,5,6,7,6])"
      ],
      "execution_count": 18,
      "outputs": [
        {
          "output_type": "execute_result",
          "data": {
            "text/plain": [
              "{1, 2, 3, 4, 5, 6, 7}"
            ]
          },
          "metadata": {},
          "execution_count": 18
        }
      ]
    },
    {
      "cell_type": "code",
      "metadata": {
        "colab": {
          "base_uri": "https://localhost:8080/"
        },
        "id": "J1FbJjtEdQGY",
        "outputId": "c830eb3b-0cbb-42f9-8d1f-f85e2941fec9"
      },
      "source": [
        "# mostrando o total real de palavras existentes em nosso corpus\n",
        "print('O número total de palavras que nosso corretor \"sabe\" de fato é {} palavras:'.format(len(set(lista_normalizada))))"
      ],
      "execution_count": 19,
      "outputs": [
        {
          "output_type": "stream",
          "name": "stdout",
          "text": [
            "O número total de palavras que nosso corretor \"sabe\" de fato é 17652 palavras:\n"
          ]
        }
      ]
    },
    {
      "cell_type": "markdown",
      "metadata": {
        "id": "GS4FTVypdm1P"
      },
      "source": [
        "Segundo artigos publicados pelo Duolingo, 8000 palavras são mais do que qualquer pessoa precisa para se tornar fluente em uma língua. O corretor obtido está bem acima disso.\n",
        "- [Link do Post - Duolingo](https://forum.duolingo.com/comment/7642297/Quantas-palavras-voc%C3%AA-precisa-saber-para-ser-fluente)"
      ]
    },
    {
      "cell_type": "markdown",
      "metadata": {
        "id": "VtW4NPScd9gr"
      },
      "source": [
        "### 4. Preparando o Corretor\n",
        "***\n",
        "Precisamos \"ensinar\" o nosso corretor a identificar erros para então corrigí-los. Faremos isso criando funções, e para cada tipo de erro, um conjunto de funções será criado."
      ]
    },
    {
      "cell_type": "markdown",
      "metadata": {
        "id": "Tjgl9xGCeVdZ"
      },
      "source": [
        "### 4.1 Erro: Falta de uma Letra\n",
        "***\n",
        "Exemplo: supondo que seja interessante digitar a palavra \"Programação\", mas na hora de digitar a palavra o dedo escapa e será digitado \"programaão\". Precisamos fatiar em duas partes a palavra no lugar exato e inserir a letra faltante entre as duas partes."
      ]
    },
    {
      "cell_type": "code",
      "metadata": {
        "colab": {
          "base_uri": "https://localhost:8080/"
        },
        "id": "-s3OjA4Sex89",
        "outputId": "3d6c9bf7-44e3-4545-b01c-445a47da33b6"
      },
      "source": [
        "# criando um exemplo\n",
        "palavra_exemplo = 'programaão'\n",
        "\n",
        "# relembrando como fatiar uma string em Python\n",
        "(palavra_exemplo[:8], palavra_exemplo[8:])"
      ],
      "execution_count": 20,
      "outputs": [
        {
          "output_type": "execute_result",
          "data": {
            "text/plain": [
              "('programa', 'ão')"
            ]
          },
          "metadata": {},
          "execution_count": 20
        }
      ]
    },
    {
      "cell_type": "code",
      "metadata": {
        "colab": {
          "base_uri": "https://localhost:8080/"
        },
        "id": "eqV91SUifAZ5",
        "outputId": "50e81a22-2657-41fa-d6ba-0d47358e933e"
      },
      "source": [
        "# exemplo do que se deseja obter\n",
        "print('{} + a letra faltante (ç) + {}'.format(palavra_exemplo[:8], palavra_exemplo[8:]))\n",
        "print('Resulta na palavra: {}'.format(palavra_exemplo[:8]+'ç'+palavra_exemplo[8:]))"
      ],
      "execution_count": 21,
      "outputs": [
        {
          "output_type": "stream",
          "name": "stdout",
          "text": [
            "programa + a letra faltante (ç) + ão\n",
            "Resulta na palavra: programação\n"
          ]
        }
      ]
    },
    {
      "cell_type": "markdown",
      "metadata": {
        "id": "6FUC42xxfulF"
      },
      "source": [
        "Vamos fazer o procedimento visto acima para todas as palavras que estiverem faltando uma letra. Precisamos de uma função para fazer isso."
      ]
    },
    {
      "cell_type": "code",
      "metadata": {
        "id": "nbjfvat1f4CC"
      },
      "source": [
        "def insere_letras(fatias):\n",
        "  '''Função que insere letras faltantes em uma palavra e retorna possíveis resultados'''\n",
        "  \n",
        "  # criando uma lista vazia para armazenar as palavras corrigidas\n",
        "  novas_palavras = []\n",
        "\n",
        "  # variável que armazena todas as letras do alfabeto e as vogais acentuadas\n",
        "  # é daqui que o corretor localizará a letra faltante\n",
        "  letras = 'abcedfghijklmnopqrstuvwxyzáâàãéêèíîìóôòõúûùç'\n",
        "\n",
        "  # iterando por todas as tuplas da lista recebida\n",
        "  for esquerdo, direito in fatias:\n",
        "    # iterando por toda letra da variável letra\n",
        "    for letra in letras:\n",
        "      # acrescentando todas as possibilidades de palavras possívies\n",
        "      novas_palavras.append(esquerdo + letra + direito)\n",
        "  \n",
        "  # retornando uma lista de possíveis palavras\n",
        "  return novas_palavras"
      ],
      "execution_count": 22,
      "outputs": []
    },
    {
      "cell_type": "code",
      "metadata": {
        "colab": {
          "base_uri": "https://localhost:8080/"
        },
        "id": "N3MpTk3Mg58a",
        "outputId": "a34f0502-4a4b-4d69-a3ca-ad0313d8e865"
      },
      "source": [
        "# mostrando uma parte da lista que a função insere_letras() retorna como exemplo\n",
        "insere_letras([('programa', 'ão')])[:5]"
      ],
      "execution_count": 23,
      "outputs": [
        {
          "output_type": "execute_result",
          "data": {
            "text/plain": [
              "['programaaão', 'programabão', 'programacão', 'programaeão', 'programadão']"
            ]
          },
          "metadata": {},
          "execution_count": 23
        }
      ]
    },
    {
      "cell_type": "code",
      "metadata": {
        "id": "QmbI91k3hqK8"
      },
      "source": [
        "def gerador_palavras(palavra):\n",
        "  '''Função que gera diversas palavras a partir de uma única palavra de referência'''\n",
        "\n",
        "  # criando uma lista vazia para armazenar as duas fatias de cada palavra\n",
        "  fatias = []\n",
        "\n",
        "  # iterando por cada letra de cada palavra\n",
        "  for i in range(len(palavra) + 1):\n",
        "    # armazenando as duas fatias em uma tupla e essa tupla em uma lista\n",
        "    fatias.append((palavra[:i], palavra[i:]))\n",
        "    \n",
        "  # chamando a função insere_letras() com a lista de tuplas das fatias\n",
        "  # recém-criadas e armazenando o retorno dessa função em uma variável\n",
        "  palavras_geradas = insere_letras(fatias)\n",
        "\n",
        "  # retorna a lista de possíveis palavras\n",
        "  # a palavra correta estará no meio dessa lista\n",
        "  return palavras_geradas"
      ],
      "execution_count": 24,
      "outputs": []
    },
    {
      "cell_type": "code",
      "metadata": {
        "colab": {
          "base_uri": "https://localhost:8080/"
        },
        "id": "c88dAwjGitqG",
        "outputId": "e3d7b924-e62e-46c8-b064-d4d71dee7c22"
      },
      "source": [
        "# chamando a função gerador_palavras() usando a palavra_exemplo como parâmetro\n",
        "# e armazenando a lista que ela retorna em uma variável\n",
        "palavras_geradas = gerador_palavras(palavra_exemplo)\n",
        "\n",
        "# mostrando como exemplo, uma parte da lista que a função gerador_palavras() retorna\n",
        "print(palavras_geradas[:5])\n",
        "\n",
        "# visualizando a quantidade de palavras geradas\n",
        "print('Quantidade de palavras geradas: {} palavras'.format(len(palavras_geradas)))"
      ],
      "execution_count": 25,
      "outputs": [
        {
          "output_type": "stream",
          "name": "stdout",
          "text": [
            "['aprogramaão', 'bprogramaão', 'cprogramaão', 'eprogramaão', 'dprogramaão']\n",
            "Quantidade de palavras geradas: 484 palavras\n"
          ]
        }
      ]
    },
    {
      "cell_type": "code",
      "metadata": {
        "colab": {
          "base_uri": "https://localhost:8080/"
        },
        "id": "KjdpnBEVjXFx",
        "outputId": "eedf81ff-bf3b-4c23-c8b6-90344e0155e5"
      },
      "source": [
        "# laço para mostrar que a palavra correta está da lista de palavras geradas\n",
        "for palavra in palavras_geradas:\n",
        "  # selecionando a palavra correta\n",
        "  if palavra == 'programação':\n",
        "    # mostrando que a palavra correta está dentro dessa lista\n",
        "    print('A palavra correta é: {}. E está dentro da lista'.format(palavra))"
      ],
      "execution_count": 26,
      "outputs": [
        {
          "output_type": "stream",
          "name": "stdout",
          "text": [
            "A palavra correta é: programação. E está dentro da lista\n"
          ]
        }
      ]
    },
    {
      "cell_type": "markdown",
      "metadata": {
        "id": "B_PfBFDnj3IG"
      },
      "source": [
        "Agora o corretor tem que saber qual é a palavra correta dentro das inúmeras palavras gerada. Faremos isso usand a função `FreqDist()` da biblioteca nltk. Esse método calcula a frequência que determinada palavra aparece dentro do Corpus. Basta darmos qual palavra queremos saber a frequência."
      ]
    },
    {
      "cell_type": "code",
      "metadata": {
        "colab": {
          "base_uri": "https://localhost:8080/"
        },
        "id": "JV4VVJ7dkI8u",
        "outputId": "e3a5d9f5-153d-45ea-b4f3-f590283a4da1"
      },
      "source": [
        "# chamando a função FreqDist() com a lista_normalizada como parâmetro e armazenando o seu retorn em uma variável\n",
        "frequencia = nltk.FreqDist(lista_normalizada)\n",
        "\n",
        "# calculando o total de palavras e armazenando esse número em uma variável\n",
        "total_palavras = len(lista_normalizada)\n",
        "\n",
        "# mostrando as 10 palavras mais comuns da lista_normalizada\n",
        "frequencia.most_common(10)"
      ],
      "execution_count": 27,
      "outputs": [
        {
          "output_type": "execute_result",
          "data": {
            "text/plain": [
              "[('de', 15494),\n",
              " ('o', 13966),\n",
              " ('que', 12225),\n",
              " ('a', 11034),\n",
              " ('e', 10478),\n",
              " ('para', 7694),\n",
              " ('um', 6346),\n",
              " ('é', 5881),\n",
              " ('uma', 5202),\n",
              " ('do', 5116)]"
            ]
          },
          "metadata": {},
          "execution_count": 27
        }
      ]
    },
    {
      "cell_type": "markdown",
      "metadata": {
        "id": "5Ph-h3tSkn0g"
      },
      "source": [
        "Com isso, é possível calcular a probablidade de determinada palavra aparecer dentro do Corpus."
      ]
    },
    {
      "cell_type": "code",
      "metadata": {
        "id": "oubs6L1QknNR"
      },
      "source": [
        "def probabilidade(palavra_gerada):\n",
        "  '''Função que calcula a probabilidade de uma determinada palavra aparecer no Corpus'''\n",
        "\n",
        "  # retorna a probabilidade de determinada palavra aparecer no corpus\n",
        "  return frequencia[palavra_gerada] / total_palavras"
      ],
      "execution_count": 28,
      "outputs": []
    },
    {
      "cell_type": "code",
      "metadata": {
        "id": "M1yQOJ_1FXGU"
      },
      "source": [
        "def corretor(palavra_errada):\n",
        "  '''Função que corrige uma palavra errada e retorna a palavra correta'''\n",
        "\n",
        "  # chama a função gerador_palavras() usando como parâmetro a palavra errada \n",
        "  palavras_geradas = gerador_palavras(palavra_errada)\n",
        "\n",
        "  # selecionando a palavra com maior probabilildade de aparecer em nosso corpus\n",
        "  # essa será a palavra correta\n",
        "  palavra_correta = max(palavras_geradas, key = probabilidade)\n",
        "\n",
        "  # retornando a palavra corrigida\n",
        "  return palavra_correta"
      ],
      "execution_count": 29,
      "outputs": []
    },
    {
      "cell_type": "code",
      "metadata": {
        "colab": {
          "base_uri": "https://localhost:8080/"
        },
        "id": "B4-WjVa8Hg1G",
        "outputId": "e411490f-4ef6-434a-aead-514c22b1e603"
      },
      "source": [
        "# recriando uma palavra escrita de forma incorreta\n",
        "palavra_exemplo = ['programaão', 'computdor', 'artgo', 'anlise']\n",
        "\n",
        "# testando o corretor\n",
        "for i in range(0, len(palavra_exemplo)):\n",
        "  print(corretor(palavra_exemplo[i]))"
      ],
      "execution_count": 34,
      "outputs": [
        {
          "output_type": "stream",
          "name": "stdout",
          "text": [
            "programação\n",
            "computador\n",
            "artigo\n",
            "análise\n"
          ]
        }
      ]
    },
    {
      "cell_type": "markdown",
      "metadata": {
        "id": "qwPVkXxbIfPQ"
      },
      "source": [
        "### 5. Avaliação do Corretor\n",
        "***\n",
        "Com as funções feitas, o corretor está pronto para corrigir palavras digitadas com letras faltantes. Agora será avaliada a qualidade do corretor no geral."
      ]
    },
    {
      "cell_type": "code",
      "metadata": {
        "id": "arKm-dTlIbeO"
      },
      "source": [
        "def cria_dados_teste(nome_arquivo):\n",
        "  '''Função que cria diversas palavras testes a partir de uma base de dados'''\n",
        "\n",
        "  # criando uma lista vazia para armazenar as palavras de teste\n",
        "  lista_palavras_teste = []\n",
        "  \n",
        "  # abre o arquivo em modo de leitura\n",
        "  f = open(nome_arquivo, 'r')\n",
        "\n",
        "  # iterando em toda linha de conteúdo do arquivo de teste\n",
        "  for linha in f:\n",
        "    # separando as palavras digitadas de forma correta e incorreta\n",
        "    correta, incorreta = linha.split()\n",
        "    # armazenando em uma lista as tuplas formadas pelas palavras digitadas corretamente\n",
        "    # e incorretamente\n",
        "    lista_palavras_teste.append((correta, incorreta))\n",
        "  \n",
        "  # fechando o arquivo\n",
        "  f.close()\n",
        "\n",
        "  # retornando a lista com as tuplas de palavras digitadas correta e incorretamente\n",
        "  return lista_palavras_teste  "
      ],
      "execution_count": 35,
      "outputs": []
    },
    {
      "cell_type": "code",
      "metadata": {
        "id": "zyVC8e67KAi8"
      },
      "source": [
        "# criando uma lista de palavras de teste com a função cria_dados_teste()\n",
        "lista_teste = cria_dados_teste('palavras.txt')"
      ],
      "execution_count": 36,
      "outputs": []
    },
    {
      "cell_type": "code",
      "metadata": {
        "id": "EV5GuvrRKK3-"
      },
      "source": [
        "def avaliador(testes):\n",
        "  '''Função que avalia a qualidade do corretor feito com os dados de teste'''\n",
        "\n",
        "  # calculando o número de palavras da lista de teste\n",
        "  numero_palavras = len(testes)\n",
        "\n",
        "  # setando um contador\n",
        "  acertou = 0\n",
        "\n",
        "  # iterando por cada tupla dentro da lista de teste\n",
        "  for correta, errada in testes:\n",
        "    # chamando a função corretor() passando cada palavra digitada incorretamente\n",
        "    palavra_corrigida = corretor(errada)\n",
        "    # conferindo cada palavra para ver se ele conseguiu corrigir\n",
        "    if palavra_corrigida == correta:\n",
        "      acertou += 1\n",
        "  \n",
        "  # calculando a taxa de acerto do corretor\n",
        "  taxa_acerto = round(acertou * 100 / numero_palavras, 2)\n",
        "\n",
        "  # mostrando a taxa de acerto do corretor\n",
        "  print('{}% de {} palavras'.format(taxa_acerto, numero_palavras))\n",
        "\n",
        "  return None\n"
      ],
      "execution_count": 38,
      "outputs": []
    },
    {
      "cell_type": "code",
      "metadata": {
        "colab": {
          "base_uri": "https://localhost:8080/"
        },
        "id": "6lX1R9Y8LkRh",
        "outputId": "df9666c5-90d1-4337-d4ef-da69b09211f2"
      },
      "source": [
        "# verificando a qualidade do corretor com a função avaliador()\n",
        "avaliador(lista_teste)"
      ],
      "execution_count": 39,
      "outputs": [
        {
          "output_type": "stream",
          "name": "stdout",
          "text": [
            "1.08% de 186 palavras\n"
          ]
        }
      ]
    },
    {
      "cell_type": "markdown",
      "metadata": {
        "id": "a2MWyoz5L5je"
      },
      "source": [
        "Uma taxa extremamente baixa de acertos. O corretor feito está pronto para corrigir apenas um tipo de erro. Agora precisamos prepará-lo para lidar com outras situações de correção."
      ]
    },
    {
      "cell_type": "markdown",
      "metadata": {
        "id": "qp5n44AfMLdE"
      },
      "source": [
        "### 5.1 Erro: Letras em Excesso\n",
        "***"
      ]
    },
    {
      "cell_type": "code",
      "metadata": {
        "id": "c2Q-6KYUMKW0"
      },
      "source": [
        "def deletando_caractere(fatias):\n",
        "  '''Função que deleta caracteres inconsistentes'''\n",
        "\n",
        "  # criando uma lista vazia para armazenar as palavras corrigidas\n",
        "  novas_palavras = []\n",
        "\n",
        "  # iterando por todas as tuplas da lista recebida\n",
        "  for esquerdo, direito in fatias:\n",
        "    # acrescentando todas as possibilidades de palavras possíveis\n",
        "    novas_palavras.append(esquerdo + direito[1:])\n",
        "  \n",
        "  # retornando uma lista de possíveis palavras\n",
        "  return novas_palavras  "
      ],
      "execution_count": 40,
      "outputs": []
    },
    {
      "cell_type": "code",
      "metadata": {
        "colab": {
          "base_uri": "https://localhost:8080/"
        },
        "id": "X00n7rhZNiIt",
        "outputId": "91eae84a-c03f-4ecf-ac2e-fafc94ead798"
      },
      "source": [
        "# criando um exemplo para testar a função deletando_caractere()\n",
        "exemplo = [('progr', 'samação')]\n",
        "deletando_caractere(exemplo)"
      ],
      "execution_count": 41,
      "outputs": [
        {
          "output_type": "execute_result",
          "data": {
            "text/plain": [
              "['programação']"
            ]
          },
          "metadata": {},
          "execution_count": 41
        }
      ]
    },
    {
      "cell_type": "markdown",
      "metadata": {
        "id": "Q1lXLrzcN6z5"
      },
      "source": [
        "Vamos refatorar a função gerador_palavras() para que ele consiga corrigir também o novo erro para deletar caracteres inconsistentes. Assim é possível reaproveitar parte do código."
      ]
    },
    {
      "cell_type": "code",
      "metadata": {
        "id": "Iga9X-4LONv9"
      },
      "source": [
        "def gerador_palavras(palavra):\n",
        "  '''Função que gera diversas palavras a partir de uma única palavra de referência'''\n",
        "\n",
        "  # criando uma lista vazia para armazenar as duas fatias de cada palavra\n",
        "  fatias = []\n",
        "\n",
        "  # iterando por cada letra de cada palavra\n",
        "  for i in range(len(palavra) + 1):\n",
        "    # armazenando as duas fatias em uma tupla e essa tupla em uma lista\n",
        "    fatias.append((palavra[:i], palavra[i:]))\n",
        "    \n",
        "  # chamando a função insere_letras() com a lista de tuplas das fatias\n",
        "  # recém-criadas e armazenando o retorno dessa função em uma variável\n",
        "  palavras_geradas = insere_letras(fatias)\n",
        "\n",
        "  # acrecentando a correção da palavra que possa conter caracteres inconsistentes\n",
        "  palavras_geradas += deletando_caractere(fatias)\n",
        "\n",
        "  # retorna a lista de possíveis palavras\n",
        "  # a palavra correta estará no meio dessa lista\n",
        "  return palavras_geradas"
      ],
      "execution_count": 42,
      "outputs": []
    },
    {
      "cell_type": "code",
      "metadata": {
        "colab": {
          "base_uri": "https://localhost:8080/"
        },
        "id": "VzWCItQUOvD8",
        "outputId": "8994c542-e378-4c80-ec8b-1cc1d388139e"
      },
      "source": [
        "# testando a função gerador_palavras() após a refatoração\n",
        "palavra_exemplo = 'progrsamação'\n",
        "palavras_geradas = gerador_palavras(palavra_exemplo)\n",
        "\n",
        "print('Exemplos de Palavras Geradas: {}'.format(palavras_geradas[:5]))\n",
        "print('Quantidade das Palavras Geradas: {}'.format(len(palavras_geradas)))"
      ],
      "execution_count": 43,
      "outputs": [
        {
          "output_type": "stream",
          "name": "stdout",
          "text": [
            "Exemplos de Palavras Geradas: ['aprogrsamação', 'bprogrsamação', 'cprogrsamação', 'eprogrsamação', 'dprogrsamação']\n",
            "Quantidade das Palavras Geradas: 585\n"
          ]
        }
      ]
    },
    {
      "cell_type": "code",
      "metadata": {
        "colab": {
          "base_uri": "https://localhost:8080/"
        },
        "id": "1ollENc4PYpy",
        "outputId": "f82f8650-6ced-4645-90ca-3afa6d5adb5a"
      },
      "source": [
        "# laço para mostrar que a palavra correta está da lista de palavras geradas\n",
        "for palavra in palavras_geradas:\n",
        "  # selecionando a palavra correta\n",
        "  if palavra == 'programação':\n",
        "    # mostrando que a palavra correta está dentro dessa lista\n",
        "    print('A palavra correta é: {}. E está dentro da lista'.format(palavra))"
      ],
      "execution_count": 44,
      "outputs": [
        {
          "output_type": "stream",
          "name": "stdout",
          "text": [
            "A palavra correta é: programação. E está dentro da lista\n"
          ]
        }
      ]
    },
    {
      "cell_type": "code",
      "metadata": {
        "colab": {
          "base_uri": "https://localhost:8080/"
        },
        "id": "a18p0QNtPhup",
        "outputId": "13462354-e9b5-4af2-ab64-5e069cb9ceb7"
      },
      "source": [
        "# chamando a função que avalia o corretor\n",
        "avaliador(lista_teste)"
      ],
      "execution_count": 45,
      "outputs": [
        {
          "output_type": "stream",
          "name": "stdout",
          "text": [
            "41.4% de 186 palavras\n"
          ]
        }
      ]
    },
    {
      "cell_type": "markdown",
      "metadata": {
        "id": "eb9UAfILPqRI"
      },
      "source": [
        "5.2 Erro: Letras Errada\n",
        "***"
      ]
    },
    {
      "cell_type": "code",
      "metadata": {
        "id": "KPsMZz2WQHHO"
      },
      "source": [
        "def troca_caractere(fatias):\n",
        "  '''Função que corrige o erro de troca de caracteres em palavras'''\n",
        "\n",
        "  # criando uma lista vazia para armazenar as palavras corrigidas\n",
        "  novas_palavras = []\n",
        "\n",
        "  #variável que armazena todas as letras do alfabeto e as vogais acentuadas\n",
        "  letras = 'abcedfghijklmnopqrstuvwxyzáâàãéêèíîìóôòõúûùç'\n",
        "\n",
        "  # iterando por todas as tuplas da lista recebida\n",
        "  for esquerdo, direito in fatias:\n",
        "    # iterando por toda letras da variável letra\n",
        "    for letra in letras:\n",
        "      # acrescentando todas as possibilidades de palavras possíveis\n",
        "      novas_palavras.append(esquerdo + letra + direito[1:])\n",
        "\n",
        "  # retornando uma lista de possíveis palavras\n",
        "  return novas_palavras"
      ],
      "execution_count": 48,
      "outputs": []
    },
    {
      "cell_type": "code",
      "metadata": {
        "colab": {
          "base_uri": "https://localhost:8080/"
        },
        "id": "qeMSpU_tRB_G",
        "outputId": "30b1581b-42d0-4a38-86f8-153089d0ff45"
      },
      "source": [
        "# testando a função troca_caractere()\n",
        "troca_caractere([('prog', 'tamação')])[:5]"
      ],
      "execution_count": 49,
      "outputs": [
        {
          "output_type": "execute_result",
          "data": {
            "text/plain": [
              "['progaamação', 'progbamação', 'progcamação', 'progeamação', 'progdamação']"
            ]
          },
          "metadata": {},
          "execution_count": 49
        }
      ]
    },
    {
      "cell_type": "code",
      "metadata": {
        "id": "NN2cFrJxRlBS"
      },
      "source": [
        "def gerador_palavras(palavra):\n",
        "  '''Função que gera diversas palavras a partir de uma única palavra de referência'''\n",
        "\n",
        "  # criando uma lista vazia para armazenar as duas fatias de cada palavra\n",
        "  fatias = []\n",
        "\n",
        "  # iterando por cada letra de cada palavra\n",
        "  for i in range(len(palavra) + 1):\n",
        "    # armazenando as duas fatias em uma tupla e essa tupla em uma lista\n",
        "    fatias.append((palavra[:i], palavra[i:]))\n",
        "    \n",
        "  # chamando a função insere_letras() com a lista de tuplas das fatias\n",
        "  # recém-criadas e armazenando o retorno dessa função em uma variável\n",
        "  palavras_geradas = insere_letras(fatias)\n",
        "\n",
        "  # acrecentando a correção da palavra que possa conter caracteres inconsistentes\n",
        "  palavras_geradas += deletando_caractere(fatias)\n",
        "\n",
        "  # acrescentando a função que troca caracteres incorretos \n",
        "  palavras_geradas += troca_caractere(fatias)\n",
        "\n",
        "  # retorna a lista de possíveis palavras\n",
        "  # a palavra correta estará no meio dessa lista\n",
        "  return palavras_geradas"
      ],
      "execution_count": 50,
      "outputs": []
    },
    {
      "cell_type": "code",
      "metadata": {
        "colab": {
          "base_uri": "https://localhost:8080/"
        },
        "id": "6t0HCFZARzYv",
        "outputId": "bdb2f579-22d3-418a-ede5-33e3c2b7c945"
      },
      "source": [
        "# testando a função gerador_palavras() após a refatoração\n",
        "palavra_exemplo = 'progtamação'\n",
        "palavras_geradas = gerador_palavras(palavra_exemplo)\n",
        "\n",
        "print('Exemplos de Palavras Geradas: {}'.format(palavras_geradas[:5]))\n",
        "print('Quantidade das Palavras Geradas: {}'.format(len(palavras_geradas)))"
      ],
      "execution_count": 51,
      "outputs": [
        {
          "output_type": "stream",
          "name": "stdout",
          "text": [
            "Exemplos de Palavras Geradas: ['aprogtamação', 'bprogtamação', 'cprogtamação', 'eprogtamação', 'dprogtamação']\n",
            "Quantidade das Palavras Geradas: 1068\n"
          ]
        }
      ]
    },
    {
      "cell_type": "code",
      "metadata": {
        "colab": {
          "base_uri": "https://localhost:8080/"
        },
        "id": "EB0TGSzcR8sk",
        "outputId": "320af311-9cad-42f5-e36a-f5a461ecc302"
      },
      "source": [
        "# laço para mostrar que a palavra correta está da lista de palavras geradas\n",
        "for palavra in palavras_geradas:\n",
        "  # selecionando a palavra correta\n",
        "  if palavra == 'programação':\n",
        "    # mostrando que a palavra correta está dentro dessa lista\n",
        "    print('A palavra correta é: {}. E está dentro da lista'.format(palavra))"
      ],
      "execution_count": 52,
      "outputs": [
        {
          "output_type": "stream",
          "name": "stdout",
          "text": [
            "A palavra correta é: programação. E está dentro da lista\n"
          ]
        }
      ]
    },
    {
      "cell_type": "code",
      "metadata": {
        "colab": {
          "base_uri": "https://localhost:8080/"
        },
        "id": "5gPDwD3PR-8V",
        "outputId": "f6776452-dbe0-49f5-f050-15d40e5dc5a4"
      },
      "source": [
        "# chamando a função que avalia o corretor\n",
        "avaliador(lista_teste)"
      ],
      "execution_count": 53,
      "outputs": [
        {
          "output_type": "stream",
          "name": "stdout",
          "text": [
            "76.34% de 186 palavras\n"
          ]
        }
      ]
    },
    {
      "cell_type": "markdown",
      "metadata": {
        "id": "oRX8qYloe7as"
      },
      "source": [
        "### 5.3 Erro: Invertendo Letras\n",
        "***"
      ]
    },
    {
      "cell_type": "code",
      "metadata": {
        "id": "0o2EIc2sfBIv"
      },
      "source": [
        "def invertendo_caractere(fatias):\n",
        "  '''Função que corrige situações em que as letras estão invertidas'''\n",
        "\n",
        "  # criando uma lista vazia para armazenar as palavras corrigidas\n",
        "  novas_palavras = []\n",
        "\n",
        "  # iterando por todas as tuplas da lista recebida\n",
        "  for esquerdo, direito in fatias:\n",
        "    # selecionando apenas as fatias da direita que têm mais de uma letra \n",
        "    if len(direito) > 1:\n",
        "      # acrescentando todas as possibilidades de palavras possíveis\n",
        "      novas_palavras.append(esquerdo + direito[1] + direito[0] + direito[2:])\n",
        "  \n",
        "  # retornando uma lista de possíveis palavras\n",
        "  return novas_palavras"
      ],
      "execution_count": 54,
      "outputs": []
    },
    {
      "cell_type": "code",
      "metadata": {
        "id": "VU1_ezMwf_pH"
      },
      "source": [
        "def gerador_palavras(palavra):\n",
        "  '''Função que gera diversas palavras a partir de uma única palavra de referência'''\n",
        "\n",
        "  # criando uma lista vazia para armazenar as duas fatias de cada palavra\n",
        "  fatias = []\n",
        "\n",
        "  # iterando por cada letra de cada palavra\n",
        "  for i in range(len(palavra) + 1):\n",
        "    # armazenando as duas fatias em uma tupla e essa tupla em uma lista\n",
        "    fatias.append((palavra[:i], palavra[i:]))\n",
        "    \n",
        "  # chamando a função insere_letras() com a lista de tuplas das fatias\n",
        "  # recém-criadas e armazenando o retorno dessa função em uma variável\n",
        "  palavras_geradas = insere_letras(fatias)\n",
        "\n",
        "  # acrecentando a correção da palavra que possa conter caracteres inconsistentes\n",
        "  palavras_geradas += deletando_caractere(fatias)\n",
        "\n",
        "  # acrescentando a função que troca caracteres incorretos \n",
        "  palavras_geradas += troca_caractere(fatias)\n",
        "\n",
        "  # acrescentando a função que inverte caracteres\n",
        "  palavras_geradas += invertendo_caractere(fatias)\n",
        "\n",
        "  # retorna a lista de possíveis palavras\n",
        "  # a palavra correta estará no meio dessa lista\n",
        "  return palavras_geradas"
      ],
      "execution_count": 55,
      "outputs": []
    },
    {
      "cell_type": "code",
      "metadata": {
        "colab": {
          "base_uri": "https://localhost:8080/"
        },
        "id": "cCNz_-rdgK_W",
        "outputId": "db633251-798c-4d79-b5d3-d11060cbc604"
      },
      "source": [
        "# testando a função gerador_palavras() após a refatoração\n",
        "palavra_exemplo = 'prorgamação'\n",
        "palavras_geradas = gerador_palavras(palavra_exemplo)\n",
        "\n",
        "print('Exemplos de Palavras Geradas: {}'.format(palavras_geradas[:5]))\n",
        "print('Quantidade das Palavras Geradas: {}'.format(len(palavras_geradas)))"
      ],
      "execution_count": 56,
      "outputs": [
        {
          "output_type": "stream",
          "name": "stdout",
          "text": [
            "Exemplos de Palavras Geradas: ['aprorgamação', 'bprorgamação', 'cprorgamação', 'eprorgamação', 'dprorgamação']\n",
            "Quantidade das Palavras Geradas: 1078\n"
          ]
        }
      ]
    },
    {
      "cell_type": "code",
      "metadata": {
        "colab": {
          "base_uri": "https://localhost:8080/"
        },
        "id": "QS2XVPCOgQOh",
        "outputId": "07bfa835-62aa-4ced-a932-480a57e72392"
      },
      "source": [
        "# laço para mostrar que a palavra correta está da lista de palavras geradas\n",
        "for palavra in palavras_geradas:\n",
        "  # selecionando a palavra correta\n",
        "  if palavra == 'programação':\n",
        "    # mostrando que a palavra correta está dentro dessa lista\n",
        "    print('A palavra correta é: {}. E está dentro da lista'.format(palavra))"
      ],
      "execution_count": 57,
      "outputs": [
        {
          "output_type": "stream",
          "name": "stdout",
          "text": [
            "A palavra correta é: programação. E está dentro da lista\n"
          ]
        }
      ]
    },
    {
      "cell_type": "code",
      "metadata": {
        "colab": {
          "base_uri": "https://localhost:8080/"
        },
        "id": "p0kL9zFEgS8u",
        "outputId": "bd91df81-d138-468b-f6ff-066e6cd5a5ba"
      },
      "source": [
        "# chamando a função que avalia o corretor\n",
        "avaliador(lista_teste)"
      ],
      "execution_count": 58,
      "outputs": [
        {
          "output_type": "stream",
          "name": "stdout",
          "text": [
            "76.34% de 186 palavras\n"
          ]
        }
      ]
    },
    {
      "cell_type": "markdown",
      "metadata": {
        "id": "j9m-S9chglsy"
      },
      "source": [
        "Agora precisamos saber qual a porcentagem de palavras que o corretor desconhece."
      ]
    },
    {
      "cell_type": "code",
      "metadata": {
        "id": "WwnSwN-Ogqkb"
      },
      "source": [
        "def avaliador(testes, vocabulario):\n",
        "  '''Função que avalia a qualidade do corretor feito com os dados de teste'''\n",
        "\n",
        "  # calculando o número de palavras da lista de teste\n",
        "  numero_palavras = len(testes)\n",
        "\n",
        "  # setando um contador\n",
        "  acertou = desconhecidas = 0\n",
        "\n",
        "  # iterando por cada tupla dentro da lista de teste\n",
        "  for correta, errada in testes:\n",
        "    # chamando a função corretor() passando cada palavra digitada incorretamente\n",
        "    palavra_corrigida = corretor(errada)\n",
        "    # incrementando o contador das palavras desconhecidas\n",
        "    desconhecidas += (correta not in vocabulario) \n",
        "    # conferindo cada palavra para ver se ele conseguiu corrigir\n",
        "    if palavra_corrigida == correta:\n",
        "      acertou += 1\n",
        "  \n",
        "  # calculando a taxa de acerto do corretor\n",
        "  taxa_acerto = round(acertou * 100 / numero_palavras, 2)\n",
        "\n",
        "  # calculando a taxa de erro refente as palavras desconhecidas\n",
        "  taxa_desconhecidas = round(desconhecidas * 100 / numero_palavras, 2)\n",
        "\n",
        "  # mostrando a taxa de acerto do corretor\n",
        "  print('{}% de {} palavras conhecidas'.format(taxa_acerto, numero_palavras))\n",
        "  print('{}% das palavras desconhecidas'.format(taxa_desconhecidas))\n",
        "\n",
        "  return None"
      ],
      "execution_count": 59,
      "outputs": []
    },
    {
      "cell_type": "code",
      "metadata": {
        "colab": {
          "base_uri": "https://localhost:8080/"
        },
        "id": "toaPMpHQhpgx",
        "outputId": "bdb359f1-252f-43c4-c030-b35d99a477ae"
      },
      "source": [
        "# calculando as palavras conhecidas\n",
        "vocabulario = set(lista_normalizada)\n",
        "# chamando a função avaliador()\n",
        "avaliador(lista_teste, vocabulario)"
      ],
      "execution_count": 60,
      "outputs": [
        {
          "output_type": "stream",
          "name": "stdout",
          "text": [
            "76.34% de 186 palavras conhecidas\n",
            "6.99% das palavras desconhecidas\n"
          ]
        }
      ]
    },
    {
      "cell_type": "code",
      "metadata": {
        "id": "11wHmtwOjwlD"
      },
      "source": [
        "def probabilidade(palavra_gerada):\n",
        "  '''Função que calcula a probabilidade de uma determinada palavra aparecer no Corpus'''\n",
        "\n",
        "  # retorna a probabilidade de determinada palavra aparecer no corpus\n",
        "  return frequencia[palavra_gerada] / total_palavras\n",
        "  \n",
        "def corretor(palavra_errada):\n",
        "  '''Função que corrige uma palavra errada e retorna a palavra correta'''\n",
        "\n",
        "  # chama a função gerador_palavras() usando como parâmetro a palavra errada \n",
        "  palavras_geradas = gerador_palavras(palavra_errada)\n",
        "\n",
        "  # selecionando a palavra com maior probabilildade de aparecer em nosso corpus\n",
        "  # essa será a palavra correta\n",
        "  palavra_correta = max(palavras_geradas, key = probabilidade)\n",
        "\n",
        "  # retornando a palavra corrigida\n",
        "  return palavra_correta"
      ],
      "execution_count": 70,
      "outputs": []
    },
    {
      "cell_type": "markdown",
      "metadata": {
        "id": "VZ7mTv2iiayV"
      },
      "source": [
        "### 6. Testando o Corretor Construído\n",
        "***\n"
      ]
    },
    {
      "cell_type": "code",
      "metadata": {
        "id": "NV2tlu_cig5p"
      },
      "source": [
        "def corretor_completo_api():\n",
        "  '''Função que corrige palavras (Função Visual)'''\n",
        "\n",
        "  palavra = input('Informe sua palavra:')\n",
        "  print('Entrada: {} ====> Corretor: {}'.format(palavra, corretor(palavra)))\n",
        "\n",
        "  return None"
      ],
      "execution_count": 76,
      "outputs": []
    },
    {
      "cell_type": "code",
      "metadata": {
        "colab": {
          "base_uri": "https://localhost:8080/"
        },
        "id": "WvBwABymj3GC",
        "outputId": "8ebfaad9-fcf7-48a0-f1e7-42962bc2e1fa"
      },
      "source": [
        "# testando o corretor construído\n",
        "corretor_completo()"
      ],
      "execution_count": 75,
      "outputs": [
        {
          "output_type": "stream",
          "name": "stdout",
          "text": [
            "Informe sua palavra:analise\n",
            "Entrada: analise ====> Corretor: análise\n"
          ]
        }
      ]
    },
    {
      "cell_type": "code",
      "metadata": {
        "id": "dAobFxZGo294"
      },
      "source": [
        "def corretor_completo(palavra):\n",
        "  '''Função que corrige palavra'''\n",
        "\n",
        "  return corretor(palavra)"
      ],
      "execution_count": 77,
      "outputs": []
    }
  ]
}