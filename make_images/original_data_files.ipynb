{
 "cells": [
  {
   "cell_type": "markdown",
   "source": [
    "# Gerando Imagens de Caractere em Braille\n",
    "***"
   ],
   "metadata": {}
  },
  {
   "cell_type": "markdown",
   "source": [
    "## Importações"
   ],
   "metadata": {}
  },
  {
   "cell_type": "code",
   "execution_count": 1,
   "source": [
    "# pacote de gerenciamento de dataframes\r\n",
    "import pandas as pd\r\n",
    "# pacote de gerenciamento do processos no sistema operacional\r\n",
    "import os\r\n",
    "# pacote de gerenciamento de diretórios\r\n",
    "import sys\r\n",
    "# classe para gerar os caracteres em braille\r\n",
    "import image_generator as ig\r\n",
    "# pacote de visualização gráfica\r\n",
    "import matplotlib.pyplot as plt\r\n",
    "# pacote de procedimentos numéricos\r\n",
    "import numpy as np\r\n",
    "# pacote de gerenciamento em imagens\r\n",
    "from PIL import Image\r\n",
    "# pacote de gerenciamento de arquivos\r\n",
    "import shutil"
   ],
   "outputs": [],
   "metadata": {}
  },
  {
   "cell_type": "markdown",
   "source": [
    "## Funções Auxiliares"
   ],
   "metadata": {}
  },
  {
   "cell_type": "code",
   "execution_count": 2,
   "source": [
    "def load_dataframe(csv_file):\r\n",
    "    '''\r\n",
    "    Carrega um arquivo .csv em um dataframe\r\n",
    "    '''\r\n",
    "\r\n",
    "    dataframe = pd.read_csv(csv_file)\r\n",
    "\r\n",
    "    return dataframe"
   ],
   "outputs": [],
   "metadata": {}
  },
  {
   "cell_type": "code",
   "execution_count": 3,
   "source": [
    "def create_dir(dir_name):\r\n",
    "    '''\r\n",
    "    Define um novo diretório\r\n",
    "    '''\r\n",
    "\r\n",
    "    os.mkdir(dir_name)\r\n",
    "\r\n",
    "    return None"
   ],
   "outputs": [],
   "metadata": {}
  },
  {
   "cell_type": "code",
   "execution_count": 4,
   "source": [
    "def string_to_list(flatten_list):\r\n",
    "    '''\r\n",
    "    Correção de conversão da string para a lista da codificação dos caracteres em braille\r\n",
    "    '''\r\n",
    "\r\n",
    "    for i in range(0, len(flatten_list)):\r\n",
    "\r\n",
    "        aux_list = list()\r\n",
    "        flatten_list[i] = flatten_list[i].replace('[', '').replace(']', '').replace(',', '')\r\n",
    "        aux_list.append(int(flatten_list[i].replace('[', '').replace(']', '').replace(',', '')[0:1]))\r\n",
    "        aux_list.append(int(flatten_list[i].replace('[', '').replace(']', '').replace(',', '')[1:2]))\r\n",
    "        aux_list.append(int(flatten_list[i].replace('[', '').replace(']', '').replace(',', '')[2:3]))\r\n",
    "        aux_list.append(int(flatten_list[i].replace('[', '').replace(']', '').replace(',', '')[3:4]))\r\n",
    "        aux_list.append(int(flatten_list[i].replace('[', '').replace(']', '').replace(',', '')[4:5]))\r\n",
    "        aux_list.append(int(flatten_list[i].replace('[', '').replace(']', '').replace(',', '')[5:6]))\r\n",
    "        flatten_list[i] = aux_list\r\n",
    "\r\n",
    "    return flatten_list"
   ],
   "outputs": [],
   "metadata": {}
  },
  {
   "cell_type": "code",
   "execution_count": 5,
   "source": [
    "def zip_dir(zip_file, dir_name):\r\n",
    "    '''\r\n",
    "    Compacta o diretório com as imagens\r\n",
    "    '''\r\n",
    "\r\n",
    "    shutil.make_archive(zip_file, 'zip', dir_name)\r\n",
    "\r\n",
    "    return None"
   ],
   "outputs": [],
   "metadata": {}
  },
  {
   "cell_type": "code",
   "execution_count": 6,
   "source": [
    "def generate_braille_images(csv_file, dir_name, zip_file):\r\n",
    "    '''\r\n",
    "    Gera imagens em braille a partir do arquivo csv.\r\n",
    "    '''\r\n",
    "\r\n",
    "    constructor = ig.image_generator()\r\n",
    "    dataframe = load_dataframe(csv_file)\r\n",
    "    \r\n",
    "    files = dataframe['Arquivo'].tolist()\r\n",
    "    flatten_list = dataframe['Codificacao'].tolist()\r\n",
    "    flatten_list = string_to_list(flatten_list)\r\n",
    "    create_dir(dir_name)\r\n",
    "\r\n",
    "    references = [files, flatten_list]\r\n",
    "\r\n",
    "    for i in range(0, len(references[0])):\r\n",
    "        image = Image.fromarray((constructor.caractere_generator(references[1][i]) * 255).astype(np.uint8))\r\n",
    "        image.save(dir_name + references[0][i])\r\n",
    "\r\n",
    "    zip_dir(zip_file, dir_name)\r\n",
    "    \r\n",
    "    return None "
   ],
   "outputs": [],
   "metadata": {}
  },
  {
   "cell_type": "code",
   "execution_count": 7,
   "source": [
    "# gerando as imagens em braille\r\n",
    "generate_braille_images('../csv-data/braile-pt-br.csv', '../files/train_images/', '../files/original_images')"
   ],
   "outputs": [],
   "metadata": {}
  }
 ],
 "metadata": {
  "interpreter": {
   "hash": "1de5f8a4b5b587cbc145288bce217672fd590a96c616aba42da42832e697a42d"
  },
  "kernelspec": {
   "name": "python3",
   "display_name": "Python 3.8.8 64-bit ('base': conda)"
  },
  "language_info": {
   "codemirror_mode": {
    "name": "ipython",
    "version": 3
   },
   "file_extension": ".py",
   "mimetype": "text/x-python",
   "name": "python",
   "nbconvert_exporter": "python",
   "pygments_lexer": "ipython3",
   "version": "3.8.8"
  }
 },
 "nbformat": 4,
 "nbformat_minor": 2
}