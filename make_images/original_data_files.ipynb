{
 "cells": [
  {
   "cell_type": "markdown",
   "source": [
    "# Gerando Imagens de Caractere em Braille\n",
    "***"
   ],
   "metadata": {}
  },
  {
   "cell_type": "markdown",
   "source": [
    "## Importações"
   ],
   "metadata": {}
  },
  {
   "cell_type": "code",
   "execution_count": 1,
   "source": [
    "import pandas as pd\r\n",
    "import os\r\n",
    "import sys\r\n",
    "import image_generator as ig\r\n",
    "import matplotlib.pyplot as plt\r\n",
    "import numpy as np\r\n",
    "from PIL import Image\r\n",
    "import shutil"
   ],
   "outputs": [],
   "metadata": {}
  },
  {
   "cell_type": "markdown",
   "source": [
    "## Funções Auxiliares"
   ],
   "metadata": {}
  },
  {
   "cell_type": "code",
   "execution_count": 2,
   "source": [
    "def load_dataframe(csv_file):\r\n",
    "    '''\r\n",
    "    Carrega um arquivo .csv em um dataframe.\r\n",
    "\r\n",
    "    Entrada:\r\n",
    "    csv_file -> localização do arquivo csv no diretório.\r\n",
    "\r\n",
    "    Saída:\r\n",
    "    dataframe -> dataframe com os dados do arquivo csv.\r\n",
    "    '''\r\n",
    "\r\n",
    "    dataframe = pd.read_csv(csv_file)\r\n",
    "\r\n",
    "    return dataframe"
   ],
   "outputs": [],
   "metadata": {}
  },
  {
   "cell_type": "code",
   "execution_count": 3,
   "source": [
    "def create_dir(dir_name):\r\n",
    "    '''\r\n",
    "    Define um novo diretório\r\n",
    "\r\n",
    "    Entrada:\r\n",
    "    dir_name -> caminho relativo do diretório.\r\n",
    "    '''\r\n",
    "\r\n",
    "    os.mkdir(dir_name)\r\n",
    "\r\n",
    "    return None"
   ],
   "outputs": [],
   "metadata": {}
  },
  {
   "cell_type": "code",
   "execution_count": 4,
   "source": [
    "def string_to_list(flatten_list):\r\n",
    "    '''\r\n",
    "    Correção de conversão da string para a lista da codificação dos caracteres em braille.\r\n",
    "\r\n",
    "    Entrada:\r\n",
    "    flatten_list -> lista em formato de string.\r\n",
    "\r\n",
    "    Saída:\r\n",
    "    flatten_list -> lista corrigida para o tipo de dados original.\r\n",
    "    '''\r\n",
    "\r\n",
    "    for i in range(0, len(flatten_list)):\r\n",
    "\r\n",
    "        aux_list = list()\r\n",
    "        flatten_list[i] = flatten_list[i].replace('[', '').replace(']', '').replace(',', '')\r\n",
    "        aux_list.append(int(flatten_list[i].replace('[', '').replace(']', '').replace(',', '')[0:1]))\r\n",
    "        aux_list.append(int(flatten_list[i].replace('[', '').replace(']', '').replace(',', '')[1:2]))\r\n",
    "        aux_list.append(int(flatten_list[i].replace('[', '').replace(']', '').replace(',', '')[2:3]))\r\n",
    "        aux_list.append(int(flatten_list[i].replace('[', '').replace(']', '').replace(',', '')[3:4]))\r\n",
    "        aux_list.append(int(flatten_list[i].replace('[', '').replace(']', '').replace(',', '')[4:5]))\r\n",
    "        aux_list.append(int(flatten_list[i].replace('[', '').replace(']', '').replace(',', '')[5:6]))\r\n",
    "        flatten_list[i] = aux_list\r\n",
    "\r\n",
    "    return flatten_list"
   ],
   "outputs": [],
   "metadata": {}
  },
  {
   "cell_type": "code",
   "execution_count": 5,
   "source": [
    "def zip_dir(zip_file, dir_name):\r\n",
    "    '''\r\n",
    "    Compacta o diretório com as imagens.\r\n",
    "\r\n",
    "    Entrada:\r\n",
    "    zip_file -> nome do arquivo compactado. \r\n",
    "    dir_name -> nome do diretório a ser compactado.\r\n",
    "    '''\r\n",
    "\r\n",
    "    shutil.make_archive(zip_file, 'zip', dir_name)\r\n",
    "\r\n",
    "    return None"
   ],
   "outputs": [],
   "metadata": {}
  },
  {
   "cell_type": "code",
   "execution_count": 6,
   "source": [
    "def generate_braille_images(csv_file, dir_name, zip_file):\r\n",
    "    '''\r\n",
    "    Gera imagens em braille a partir do arquivo csv.\r\n",
    "\r\n",
    "    Entrada:\r\n",
    "    csv_file -> localização no diretório do arquivo csv. \r\n",
    "    dir_name -> nome do diretório de destino.\r\n",
    "    zip_file -> nome do arquivo com os dados compactados.\r\n",
    "    '''\r\n",
    "\r\n",
    "    constructor = ig.image_generator()\r\n",
    "    dataframe = load_dataframe(csv_file)\r\n",
    "    \r\n",
    "    files = dataframe['Arquivo'].tolist()\r\n",
    "    flatten_list = dataframe['Codificacao'].tolist()\r\n",
    "    flatten_list = string_to_list(flatten_list)\r\n",
    "    create_dir(dir_name)\r\n",
    "\r\n",
    "    references = [files, flatten_list]\r\n",
    "\r\n",
    "    for i in range(0, len(references[0])):\r\n",
    "        image = Image.fromarray((constructor.caractere_generator(references[1][i]) * 255).astype(np.uint8))\r\n",
    "        image.save(dir_name + references[0][i])\r\n",
    "\r\n",
    "    zip_dir(zip_file, dir_name)\r\n",
    "    \r\n",
    "    return None "
   ],
   "outputs": [],
   "metadata": {}
  },
  {
   "cell_type": "markdown",
   "source": [
    "## Teste de Classe"
   ],
   "metadata": {}
  },
  {
   "cell_type": "code",
   "execution_count": 7,
   "source": [
    "import original_images as oi \r\n",
    "constructor = oi.original_images()\r\n",
    "constructor.generate_braille_images('../csv-data/braile-pt-br.csv', '../files/train_images/', 'original_images')"
   ],
   "outputs": [],
   "metadata": {}
  }
 ],
 "metadata": {
  "interpreter": {
   "hash": "836df398001d1aac78eb9ff390cb7b1b5ffe100f888216d214368cf555e342d0"
  },
  "kernelspec": {
   "name": "python3",
   "display_name": "Python 3.8.10 64-bit"
  },
  "language_info": {
   "codemirror_mode": {
    "name": "ipython",
    "version": 3
   },
   "file_extension": ".py",
   "mimetype": "text/x-python",
   "name": "python",
   "nbconvert_exporter": "python",
   "pygments_lexer": "ipython3",
   "version": "3.8.10"
  }
 },
 "nbformat": 4,
 "nbformat_minor": 2
}