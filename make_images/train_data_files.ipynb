{
 "cells": [
  {
   "cell_type": "markdown",
   "source": [
    "# Preparando os dados do treinamento\r\n",
    "***"
   ],
   "metadata": {}
  },
  {
   "cell_type": "markdown",
   "source": [
    "### Importação dos pacotes\r\n",
    "***"
   ],
   "metadata": {}
  },
  {
   "cell_type": "code",
   "execution_count": 1,
   "source": [
    "# pacote de visão computacional\r\n",
    "import cv2\r\n",
    "# pacotes de procedimentos numéricos usando matrizes\r\n",
    "import numpy as np\r\n",
    "# pacote para gerenciamento de bases de dados\r\n",
    "import pandas as pd\r\n",
    "# pacote para realização de operações com imagens digitais\r\n",
    "from PIL import Image\r\n",
    "# pacote de visualização gráfica\r\n",
    "import matplotlib.pyplot as plt\r\n",
    "# pacotes de gerenciamento de arquivos do sistema operacional\r\n",
    "import os\r\n",
    "import shutil"
   ],
   "outputs": [],
   "metadata": {}
  },
  {
   "cell_type": "markdown",
   "source": [
    "### Carregando as imagens originais\r\n",
    "***"
   ],
   "metadata": {}
  },
  {
   "cell_type": "code",
   "execution_count": 4,
   "source": [
    "# carregando as imagens em um array multidimensional\r\n",
    "images = []\r\n",
    "for i in range(0, 26):\r\n",
    "    images.append(plt.imread('../files/train_images/image'+str(i+1)+'.tiff'))\r\n",
    "\r\n",
    "images = np.array(images)"
   ],
   "outputs": [],
   "metadata": {}
  },
  {
   "cell_type": "code",
   "execution_count": 5,
   "source": [
    "# carregando os rótulos das imagens em um array\r\n",
    "alphabet = 'abcdefghijklmnopqrstuvwxyz'\r\n",
    "labels = []\r\n",
    "for i in range(0, 26):\r\n",
    "    labels.append(alphabet[i])\r\n",
    "\r\n",
    "labels = np.array(labels)"
   ],
   "outputs": [],
   "metadata": {}
  },
  {
   "cell_type": "markdown",
   "source": [
    "### Transformações Geométricas\r\n",
    "***"
   ],
   "metadata": {}
  },
  {
   "cell_type": "code",
   "execution_count": 6,
   "source": [
    "def translate(image, Tx = 0, Ty = 0):\r\n",
    "    '''\r\n",
    "    Função que translada uma imagem na vertical e horizontal\r\n",
    "    ''' \r\n",
    "\r\n",
    "    rows, cols = image.shape\r\n",
    "    img = image.copy()\r\n",
    "    matrix = np.array( [ [1, 0, Tx], [0, 1, Ty] ], dtype=np.float32)\r\n",
    "    dst_img = cv2.warpAffine(img, matrix, (cols, rows))\r\n",
    "\r\n",
    "    return dst_img"
   ],
   "outputs": [],
   "metadata": {}
  },
  {
   "cell_type": "code",
   "execution_count": 7,
   "source": [
    "def rotation(image, theta=0):\r\n",
    "    '''\r\n",
    "    Função que rotaciona uma imagem para a esquerda e para direita\r\n",
    "    '''\r\n",
    "    \r\n",
    "    rows, cols = image.shape\r\n",
    "    img = image.copy()\r\n",
    "    matrix = cv2.getRotationMatrix2D( (cols/2, rows/2),  theta , 1)\r\n",
    "    dst_img = cv2.warpAffine(img, matrix, (cols, rows))\r\n",
    "\r\n",
    "    return dst_img"
   ],
   "outputs": [],
   "metadata": {}
  },
  {
   "cell_type": "markdown",
   "source": [
    "### Testando as transformações geométricas\r\n",
    "***"
   ],
   "metadata": {}
  },
  {
   "cell_type": "code",
   "execution_count": 8,
   "source": [
    "# definindo intervalos úteis para variar as transformações geométricas\r\n",
    "theta = np.arange(-10,10)\r\n",
    "Tx = np.arange(-5, 5)\r\n",
    "Ty = np.arange(-5, 5)\r\n",
    "p_translate = np.concatenate((np.array([Tx, np.zeros(Ty.shape)]),np.array([np.zeros(Ty.shape), Ty])), axis = 1)\r\n",
    "p_translate = np.concatenate((p_translate, np.array([Tx, Ty])), axis = 1)"
   ],
   "outputs": [],
   "metadata": {}
  },
  {
   "cell_type": "code",
   "execution_count": 14,
   "source": [
    "# salvando imagens com transformações geométricas de rotação\r\n",
    "for i in range(0, 26):\r\n",
    "    for j in range(0, 20):\r\n",
    "        img = Image.fromarray(rotation(image = images[i], theta = theta[j]))\r\n",
    "        img.save('../files/train_images/image'+str(i+1)+'-'+str(j+1)+'.tiff')"
   ],
   "outputs": [],
   "metadata": {}
  },
  {
   "cell_type": "code",
   "execution_count": 15,
   "source": [
    "# salvando imagens com transformações geométricas de translação\r\n",
    "for i in range(0, 26):\r\n",
    "    for j in range(0, 30):\r\n",
    "        img = Image.fromarray(translate(image = images[i], Tx = p_translate[0][j], Ty = p_translate[1][j]))\r\n",
    "        img.save('../files/train_images/image'+str(i+1)+'-'+str(j+21)+'.tiff')"
   ],
   "outputs": [],
   "metadata": {}
  },
  {
   "cell_type": "markdown",
   "source": [
    "### Criando um arquivos CSV de referência\r\n",
    "***"
   ],
   "metadata": {}
  },
  {
   "cell_type": "code",
   "execution_count": 16,
   "source": [
    "# criando um array com o nome dos arquivos de imagens\r\n",
    "list_files = np.array(os.listdir('../files/train_images/'))\r\n",
    "\r\n",
    "# criando um array com o nome dos rótulos\r\n",
    "list_labels = []\r\n",
    "for i in range(0, 26):\r\n",
    "    for j in range(0, 51):\r\n",
    "        list_labels.append(i+1)\r\n",
    "\r\n",
    "list_labels = np.array(list_labels)"
   ],
   "outputs": [],
   "metadata": {}
  },
  {
   "cell_type": "code",
   "execution_count": 17,
   "source": [
    "# salvando as referências dos arquivos de imagens e seus rótulos em um dataframe\r\n",
    "dataframe_array = np.concatenate((np.reshape(list_files, (len(list_files),1)), \r\n",
    "                                  np.reshape(list_labels, (len(list_labels),1))), axis=1)\r\n",
    "\r\n",
    "dataframe = pd.DataFrame(dataframe_array, columns=['Path', 'Labels'])"
   ],
   "outputs": [],
   "metadata": {}
  },
  {
   "cell_type": "code",
   "execution_count": 18,
   "source": [
    "# exportando o dataframe para um arquivos CSV\r\n",
    "dataframe.to_csv('../csv-data/train_images.csv')"
   ],
   "outputs": [],
   "metadata": {}
  },
  {
   "cell_type": "code",
   "execution_count": 19,
   "source": [
    "# compactando as imagens de treinamento\r\n",
    "shutil.make_archive('../files/train_images', 'zip', '../files/train_images/')"
   ],
   "outputs": [
    {
     "output_type": "execute_result",
     "data": {
      "text/plain": [
       "'c:\\\\Users\\\\Alysson\\\\OneDrive\\\\Documents\\\\projetos-github\\\\braillingo\\\\files\\\\train_images.zip'"
      ]
     },
     "metadata": {},
     "execution_count": 19
    }
   ],
   "metadata": {}
  }
 ],
 "metadata": {
  "orig_nbformat": 4,
  "language_info": {
   "name": "python",
   "version": "3.8.8",
   "mimetype": "text/x-python",
   "codemirror_mode": {
    "name": "ipython",
    "version": 3
   },
   "pygments_lexer": "ipython3",
   "nbconvert_exporter": "python",
   "file_extension": ".py"
  },
  "kernelspec": {
   "name": "python3",
   "display_name": "Python 3.8.8 64-bit ('base': conda)"
  },
  "interpreter": {
   "hash": "1de5f8a4b5b587cbc145288bce217672fd590a96c616aba42da42832e697a42d"
  }
 },
 "nbformat": 4,
 "nbformat_minor": 2
}