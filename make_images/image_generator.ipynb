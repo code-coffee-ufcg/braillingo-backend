{
 "cells": [
  {
   "cell_type": "markdown",
   "source": [
    "# Gerador de Imagens\n",
    "***"
   ],
   "metadata": {}
  },
  {
   "cell_type": "markdown",
   "source": [
    "## Importações"
   ],
   "metadata": {}
  },
  {
   "cell_type": "code",
   "execution_count": 16,
   "source": [
    "# pacote de procedimentos numéricos\r\n",
    "import numpy as np\r\n",
    "# pacote de morfologia matemática\r\n",
    "import skimage.morphology as sk\r\n",
    "# pacote de visualização gráfica\r\n",
    "import matplotlib.pyplot as plt"
   ],
   "outputs": [],
   "metadata": {}
  },
  {
   "cell_type": "markdown",
   "source": [
    "## Funções Auxiliares "
   ],
   "metadata": {}
  },
  {
   "cell_type": "code",
   "execution_count": 17,
   "source": [
    "def element_generator(radius=4, state=True):\r\n",
    "    ''''\r\n",
    "    Gera um furo (elemento) do caractere em braille\r\n",
    "    '''\r\n",
    "\r\n",
    "    element = sk.disk(radius)\r\n",
    "\r\n",
    "    if state == True:\r\n",
    "        element[0, element.shape[1] // 2] = 0\r\n",
    "        element[-1, element.shape[1] // 2] = 0\r\n",
    "        element[element.shape[0] // 2, 0] = 0\r\n",
    "        element[element.shape[0] // 2, -1] = 0\r\n",
    "    else:\r\n",
    "        element = np.zeros(element.shape, dtype='uint8')\r\n",
    "    \r\n",
    "    return element "
   ],
   "outputs": [],
   "metadata": {}
  },
  {
   "cell_type": "code",
   "execution_count": 18,
   "source": [
    "def zero_padding(image, width=1):\r\n",
    "    '''\r\n",
    "    Adiciona zeros na borda de um array\r\n",
    "    '''\r\n",
    "\r\n",
    "    image = np.pad(image, pad_width=width, mode='constant')\r\n",
    "\r\n",
    "    return image "
   ],
   "outputs": [],
   "metadata": {}
  },
  {
   "cell_type": "code",
   "execution_count": 19,
   "source": [
    "def make_caractere(encoded_image, radius=4, pad_width=1):\r\n",
    "    '''\r\n",
    "    Gera uma imagem do caractere em braille\r\n",
    "    '''\r\n",
    "    \r\n",
    "    caractere = [[np.concatenate((element_generator(radius, encoded_image[0][0]), \r\n",
    "                                  element_generator(radius, encoded_image[0][1])), axis=1)],\r\n",
    "                 [np.concatenate((element_generator(radius, encoded_image[1][0]), \r\n",
    "                                  element_generator(radius, encoded_image[1][1])), axis=1)],\r\n",
    "                 [np.concatenate((element_generator(radius, encoded_image[2][0]), \r\n",
    "                                  element_generator(radius, encoded_image[2][1])), axis=1)]]\r\n",
    "\r\n",
    "    caractere = np.concatenate((np.squeeze(caractere[0]),np.squeeze(caractere[1]), np.squeeze(caractere[2])))\r\n",
    "\r\n",
    "    caractere = zero_padding(caractere, width=pad_width)\r\n",
    "\r\n",
    "    \r\n",
    "    return caractere"
   ],
   "outputs": [],
   "metadata": {}
  },
  {
   "cell_type": "code",
   "execution_count": 20,
   "source": [
    "def reshape_encoded_image(flatten):\r\n",
    "    '''\r\n",
    "    Cria uma array com o formato do gabarito de furos em braille\r\n",
    "    '''\r\n",
    "\r\n",
    "    encoded_image = np.array(flatten, dtype='uint8')\r\n",
    "    encoded_image = encoded_image.reshape(3,2)\r\n",
    "    \r\n",
    "\r\n",
    "    return encoded_image"
   ],
   "outputs": [],
   "metadata": {}
  },
  {
   "cell_type": "code",
   "execution_count": 21,
   "source": [
    "def caractere_generator(flatten_image, radius=4, pad_width=3):\r\n",
    "    '''\r\n",
    "    Gera um caractere em braille a partir de um array codificado\r\n",
    "    '''\r\n",
    "\r\n",
    "    encoded_image = reshape_encoded_image(flatten_image)\r\n",
    "    caractere = make_caractere(encoded_image, radius, pad_width)\r\n",
    "\r\n",
    "\r\n",
    "    return caractere"
   ],
   "outputs": [],
   "metadata": {}
  },
  {
   "cell_type": "markdown",
   "source": [
    "## Teste da Classe"
   ],
   "metadata": {}
  },
  {
   "cell_type": "code",
   "execution_count": 22,
   "source": [
    "import image_generator as gi\r\n",
    "constructor = gi.image_generator()\r\n",
    "plt.imshow(constructor.caractere_generator([1,0,1,0,1,0], radius=4, pad_width=3), cmap='gray')"
   ],
   "outputs": [
    {
     "output_type": "execute_result",
     "data": {
      "text/plain": [
       "<matplotlib.image.AxesImage at 0x2a1f4fb1580>"
      ]
     },
     "metadata": {},
     "execution_count": 22
    },
    {
     "output_type": "display_data",
     "data": {
      "image/png": "[encoded data removed]",
      "text/plain": [
       "<Figure size 432x288 with 1 Axes>"
      ]
     },
     "metadata": {
      "needs_background": "light"
     }
    }
   ],
   "metadata": {}
  }
 ],
 "metadata": {
  "interpreter": {
   "hash": "1de5f8a4b5b587cbc145288bce217672fd590a96c616aba42da42832e697a42d"
  },
  "kernelspec": {
   "name": "python3",
   "display_name": "Python 3.8.8 64-bit ('base': conda)"
  },
  "language_info": {
   "codemirror_mode": {
    "name": "ipython",
    "version": 3
   },
   "file_extension": ".py",
   "mimetype": "text/x-python",
   "name": "python",
   "nbconvert_exporter": "python",
   "pygments_lexer": "ipython3",
   "version": "3.8.8"
  }
 },
 "nbformat": 4,
 "nbformat_minor": 2
}