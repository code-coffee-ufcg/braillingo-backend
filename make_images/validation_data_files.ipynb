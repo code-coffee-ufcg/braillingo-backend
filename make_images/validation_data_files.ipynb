{
 "cells": [
  {
   "cell_type": "markdown",
   "source": [
    "# Organizando os Dados de Validação\r\n",
    "#### Ref: https://www.kaggle.com/adviksharma/braille-images-for-english-characters\r\n",
    "***"
   ],
   "metadata": {}
  },
  {
   "cell_type": "markdown",
   "source": [
    "## Importação dos Pacotes\r\n",
    "***"
   ],
   "metadata": {}
  },
  {
   "cell_type": "code",
   "execution_count": 3,
   "source": [
    "# pacote de gerenciamento de arquivos no sistema operacional\r\n",
    "import os\r\n",
    "# pacote de gerenciamento de arquivos\r\n",
    "import shutil\r\n",
    "# pacote de gerenciamento de conjunto de dados\r\n",
    "import pandas as pd\r\n",
    "# pacote de procedimentos numéricos utilizando matrizes \r\n",
    "import numpy as np\r\n",
    "# pacote de visualização grafica\r\n",
    "import matplotlib.pyplot as plt\r\n",
    "# pacote de visão computacional\r\n",
    "import cv2\r\n",
    "# pacote de manipulação em imagens\r\n",
    "from PIL import Image"
   ],
   "outputs": [],
   "metadata": {}
  },
  {
   "cell_type": "markdown",
   "source": [
    "## Organizando os Padrões dos Dados de Validação\r\n",
    "***"
   ],
   "metadata": {}
  },
  {
   "cell_type": "code",
   "execution_count": 1,
   "source": [
    "# listando as imagens de validação\r\n",
    "list_images = os.listdir('../files/images2/')"
   ],
   "outputs": [],
   "metadata": {}
  },
  {
   "cell_type": "code",
   "execution_count": 63,
   "source": [
    "# carregando as imagens de teste em um array multidimensional\r\n",
    "list_array = []\r\n",
    "for i in range(0, len(list_images)):\r\n",
    "    list_array.append(plt.imread('../files/images2/'+list_images[i]))"
   ],
   "outputs": [],
   "metadata": {}
  },
  {
   "cell_type": "code",
   "execution_count": 112,
   "source": [
    "# padronizando a dimensão das imagens originais\r\n",
    "list_array[12] = cv2.cvtColor(list_array[12], cv2.COLOR_GRAY2RGB)\r\n",
    "list_array[14] = cv2.cvtColor(list_array[14], cv2.COLOR_GRAY2RGB)\r\n",
    "list_array[20] = cv2.cvtColor(list_array[20], cv2.COLOR_GRAY2RGB)"
   ],
   "outputs": [],
   "metadata": {}
  },
  {
   "cell_type": "code",
   "execution_count": 116,
   "source": [
    "# transformando a lista de imagens em um array multidimensional\r\n",
    "list_array = np.array(list_array)"
   ],
   "outputs": [],
   "metadata": {}
  },
  {
   "cell_type": "code",
   "execution_count": 115,
   "source": [
    "# modificando as dimensões das imagens\r\n",
    "aux = []\r\n",
    "for i in range(0, len(list_array)):\r\n",
    "    aux.append(~cv2.cvtColor(cv2.resize(list_array[i], dsize = (24,33)), cv2.COLOR_BGR2GRAY))\r\n",
    "\r\n",
    "aux = np.array(aux)\r\n",
    "list_array = aux "
   ],
   "outputs": [],
   "metadata": {}
  },
  {
   "cell_type": "code",
   "execution_count": 123,
   "source": [
    "# salvando as imagens modificadas na pasta de validação\r\n",
    "for i in range(0, len(list_array)):\r\n",
    "    image = Image.fromarray(list_array[i].astype(np.uint8))\r\n",
    "    image.save('../files/images2/'+list_images[i][0:-4]+'.tiff')"
   ],
   "outputs": [],
   "metadata": {}
  },
  {
   "cell_type": "code",
   "execution_count": 124,
   "source": [
    "# removendo imagens no padrão antigo\r\n",
    "for i in range(0, len(list_images)):\r\n",
    "    os.remove('../files/images2/'+list_images[i])"
   ],
   "outputs": [],
   "metadata": {}
  },
  {
   "cell_type": "code",
   "execution_count": 125,
   "source": [
    "# removendo arquivo compactado no padrão antigo\r\n",
    "os.remove('../files/images2.zip')"
   ],
   "outputs": [],
   "metadata": {}
  },
  {
   "cell_type": "markdown",
   "source": [
    "## Aumento de Dados no Conjunto de Validação"
   ],
   "metadata": {}
  },
  {
   "cell_type": "code",
   "execution_count": 126,
   "source": [
    "def translate(image, Tx = 0, Ty = 0):\r\n",
    "    '''\r\n",
    "    Função que translada uma imagem na vertical e horizontal\r\n",
    "    ''' \r\n",
    "\r\n",
    "    rows, cols = image.shape\r\n",
    "    img = image.copy()\r\n",
    "    matrix = np.array( [ [1, 0, Tx], [0, 1, Ty] ], dtype=np.float32)\r\n",
    "    dst_img = cv2.warpAffine(img, matrix, (cols, rows))\r\n",
    "\r\n",
    "    return dst_img"
   ],
   "outputs": [],
   "metadata": {}
  },
  {
   "cell_type": "code",
   "execution_count": 127,
   "source": [
    "def rotation(image, theta=0):\r\n",
    "    '''\r\n",
    "    Função que rotaciona uma imagem para a esquerda e para direita\r\n",
    "    '''\r\n",
    "    \r\n",
    "    rows, cols = image.shape\r\n",
    "    img = image.copy()\r\n",
    "    matrix = cv2.getRotationMatrix2D( (cols/2, rows/2),  theta , 1)\r\n",
    "    dst_img = cv2.warpAffine(img, matrix, (cols, rows))\r\n",
    "\r\n",
    "    return dst_img"
   ],
   "outputs": [],
   "metadata": {}
  },
  {
   "cell_type": "code",
   "execution_count": 128,
   "source": [
    "# definindo intervalos úteis para variar as transformações geométricas\r\n",
    "theta = np.arange(-10,10)\r\n",
    "Tx = np.arange(-5, 5)\r\n",
    "Ty = np.arange(-5, 5)\r\n",
    "p_translate = np.concatenate((np.array([Tx, np.zeros(Ty.shape)]),np.array([np.zeros(Ty.shape), Ty])), axis = 1)\r\n",
    "p_translate = np.concatenate((p_translate, np.array([Tx, Ty])), axis = 1)"
   ],
   "outputs": [],
   "metadata": {}
  },
  {
   "cell_type": "code",
   "execution_count": 133,
   "source": [
    "# salvando imagens com transformações geométricas de rotação\r\n",
    "for i in range(0, 26):\r\n",
    "    for j in range(0, 20):\r\n",
    "        img = Image.fromarray(rotation(image = list_array[i], theta = theta[j]))\r\n",
    "        img.save('../files/images2/'+list_images[i][0:-4]+'-'+str(j+1)+'.tiff')"
   ],
   "outputs": [],
   "metadata": {}
  },
  {
   "cell_type": "code",
   "execution_count": 138,
   "source": [
    "# salvando imagens com transformações geométricas de translação\r\n",
    "for i in range(0, 26):\r\n",
    "    for j in range(0, 30):\r\n",
    "        img = Image.fromarray(translate(image = list_array[i], Tx = p_translate[0][j], Ty = p_translate[1][j]))\r\n",
    "        img.save('../files/images2/'+list_images[i][0:-4]+'-'+str(j+21)+'.tiff')"
   ],
   "outputs": [],
   "metadata": {}
  },
  {
   "cell_type": "markdown",
   "source": [
    "## Salvando os Resultados Obtidos"
   ],
   "metadata": {}
  },
  {
   "cell_type": "code",
   "execution_count": 139,
   "source": [
    "# pegando as novas imagens de referencia\r\n",
    "list_images = os.listdir('../files/images2/')"
   ],
   "outputs": [],
   "metadata": {}
  },
  {
   "cell_type": "code",
   "execution_count": 141,
   "source": [
    "# carregando os rótulos das imagens em um array\r\n",
    "alphabet = 'abcdefghijklmnopqrstuvwxyz'\r\n",
    "labels = []\r\n",
    "for i in range(0, len(list_images)):\r\n",
    "    labels.append(alphabet.find(list_images[i][0:1])+1)"
   ],
   "outputs": [],
   "metadata": {}
  },
  {
   "cell_type": "code",
   "execution_count": 145,
   "source": [
    "# organizando as dimensões dos dados\r\n",
    "list_images = np.array(list_images)\r\n",
    "labels = np.array(labels)\r\n",
    "labels = np.reshape(labels, (len(labels), 1))\r\n",
    "list_images = np.reshape(list_images, (len(list_images), 1))"
   ],
   "outputs": [],
   "metadata": {}
  },
  {
   "cell_type": "code",
   "execution_count": 148,
   "source": [
    "# salvando as referências dos arquivos de imagens e seus rótulos em um dataframe\r\n",
    "dataframe_array = np.concatenate((list_images, labels), axis=1)\r\n",
    "dataframe = pd.DataFrame(dataframe_array, columns=['Path', 'Labels'])"
   ],
   "outputs": [],
   "metadata": {}
  },
  {
   "cell_type": "code",
   "execution_count": 150,
   "source": [
    "# exportando o dataframe para um arquivos CSV\r\n",
    "dataframe.to_csv('../csv_data/images2.csv')"
   ],
   "outputs": [],
   "metadata": {}
  },
  {
   "cell_type": "code",
   "execution_count": 4,
   "source": [
    "# compactando imagens de teste no novo padrão desejado\r\n",
    "shutil.make_archive('../files/images2', 'zip', '../files/images2')"
   ],
   "outputs": [
    {
     "output_type": "execute_result",
     "data": {
      "text/plain": [
       "'c:\\\\Users\\\\Alysson\\\\OneDrive\\\\Documents\\\\projetos-github\\\\braillingo\\\\files\\\\images2.zip'"
      ]
     },
     "metadata": {},
     "execution_count": 4
    }
   ],
   "metadata": {}
  }
 ],
 "metadata": {
  "orig_nbformat": 4,
  "language_info": {
   "name": "python",
   "version": "3.8.8",
   "mimetype": "text/x-python",
   "codemirror_mode": {
    "name": "ipython",
    "version": 3
   },
   "pygments_lexer": "ipython3",
   "nbconvert_exporter": "python",
   "file_extension": ".py"
  },
  "kernelspec": {
   "name": "python3",
   "display_name": "Python 3.8.8 64-bit ('base': conda)"
  },
  "interpreter": {
   "hash": "1de5f8a4b5b587cbc145288bce217672fd590a96c616aba42da42832e697a42d"
  }
 },
 "nbformat": 4,
 "nbformat_minor": 2
}