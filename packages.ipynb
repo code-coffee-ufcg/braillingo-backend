{
 "cells": [
  {
   "cell_type": "markdown",
   "source": [
    "# Testando o acesso aos pacotes\r\n",
    "***"
   ],
   "metadata": {}
  },
  {
   "cell_type": "markdown",
   "source": [
    "## Acessando os arquivos em subdiretórios"
   ],
   "metadata": {}
  },
  {
   "cell_type": "code",
   "execution_count": 1,
   "source": [
    "import sys\r\n",
    "sys.path.append(\"image_generator/\")"
   ],
   "outputs": [],
   "metadata": {}
  },
  {
   "cell_type": "markdown",
   "source": [
    "## Importação dos pacotes"
   ],
   "metadata": {}
  },
  {
   "cell_type": "code",
   "execution_count": 7,
   "source": [
    "import image_generator as ig\r\n",
    "image_generator = ig.image_generator()"
   ],
   "outputs": [],
   "metadata": {}
  }
 ],
 "metadata": {
  "orig_nbformat": 4,
  "language_info": {
   "name": "python",
   "version": "3.8.10",
   "mimetype": "text/x-python",
   "codemirror_mode": {
    "name": "ipython",
    "version": 3
   },
   "pygments_lexer": "ipython3",
   "nbconvert_exporter": "python",
   "file_extension": ".py"
  },
  "kernelspec": {
   "name": "python3",
   "display_name": "Python 3.8.10 64-bit"
  },
  "interpreter": {
   "hash": "836df398001d1aac78eb9ff390cb7b1b5ffe100f888216d214368cf555e342d0"
  }
 },
 "nbformat": 4,
 "nbformat_minor": 2
}