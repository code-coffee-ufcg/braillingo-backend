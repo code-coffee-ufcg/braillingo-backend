{
 "cells": [
  {
   "cell_type": "code",
   "execution_count": 1,
   "id": "1eff1412",
   "metadata": {},
   "outputs": [],
   "source": [
    "import cv2                   # OpenCV para manipulação de imagens.\n",
    "import numpy as np                   # Numpy para manipulação de matrizes e arrays.\n",
    "import matplotlib.pyplot as plt      # Pyplot para plotagem de gráficos e imagens.\n",
    "import random\n"
   ]
  },
  {
   "cell_type": "code",
   "execution_count": 2,
   "id": "b246c16b",
   "metadata": {},
   "outputs": [],
   "source": [
    "def sp_noise(image,prob):\n",
    "    '''\n",
    "    Add salt and pepper noise to image\n",
    "    prob: Probability of the noise\n",
    "    '''\n",
    "    output = np.zeros(image.shape,np.uint8)\n",
    "    thres = 1 - prob \n",
    "    for i in range(image.shape[0]):\n",
    "        for j in range(image.shape[1]):\n",
    "            rdn = random.random()\n",
    "            if rdn < prob:\n",
    "                output[i][j] = 0\n",
    "            elif rdn > thres:\n",
    "                output[i][j] = 255\n",
    "            else:\n",
    "                output[i][j] = image[i][j]\n",
    "    return output\n",
    "\n"
   ]
  },
  {
   "cell_type": "code",
   "execution_count": 10,
   "id": "b1e0b332",
   "metadata": {},
   "outputs": [
    {
     "data": {
      "text/plain": [
       "<Figure size 360x360 with 0 Axes>"
      ]
     },
     "metadata": {},
     "output_type": "display_data"
    }
   ],
   "source": [
    "img_in = cv2.imread('letra.jpg',0)\n",
    "\n",
    "img_in = cv2.cvtColor(img_in, cv2.COLOR_BGR2RGB)\n",
    "g1 = np.zeros (img_in.shape, img_in.dtype)\n",
    "g2 = np.zeros (img_in.shape, img_in.dtype)\n",
    "g3 = np.zeros (img_in.shape, img_in.dtype)\n",
    "\n",
    "g= img_in\n",
    "im1= cv2.intensity_transform.contrastStretching(img_in,g1,0,255,255,0)\n",
    "im2= cv2.intensity_transform.contrastStretching(img_in,g2,10,100,0,10)\n",
    "im3= cv2.intensity_transform.gammaCorrection(img_in,g3,16)\n",
    "\n",
    "%matplotlib inline\n",
    "figG= plt.figure(figsize=(5, 5))\n"
   ]
  },
  {
   "cell_type": "code",
   "execution_count": 11,
   "id": "7f3a295a",
   "metadata": {},
   "outputs": [
    {
     "data": {
      "text/plain": [
       "<matplotlib.image.AxesImage at 0x23daa379d90>"
      ]
     },
     "execution_count": 11,
     "metadata": {},
     "output_type": "execute_result"
    },
    {
     "data": {
      "image/png": "[encoded data removed]",
      "text/plain": [
       "<Figure size 1080x720 with 4 Axes>"
      ]
     },
     "metadata": {
      "needs_background": "light"
     },
     "output_type": "display_data"
    }
   ],
   "source": [
    "figG, aux = plt.subplots(nrows = 1, ncols = 4, figsize=(15, 10))\n",
    "aux[0].imshow(g)\n",
    "aux[1].imshow(g1)\n",
    "aux[2].imshow(g2)\n",
    "aux[3].imshow(g3)"
   ]
  },
  {
   "cell_type": "code",
   "execution_count": 12,
   "id": "d9ba2950",
   "metadata": {},
   "outputs": [
    {
     "data": {
      "text/plain": [
       "<matplotlib.image.AxesImage at 0x23daa3e6640>"
      ]
     },
     "execution_count": 12,
     "metadata": {},
     "output_type": "execute_result"
    },
    {
     "data": {
      "image/png": "[encoded data removed]",
      "text/plain": [
       "<Figure size 432x288 with 1 Axes>"
      ]
     },
     "metadata": {
      "needs_background": "light"
     },
     "output_type": "display_data"
    }
   ],
   "source": [
    "\n",
    "\n",
    "\n",
    "th, im_th = cv2.threshold(img_in, 160, 250, cv2.THRESH_BINARY)\n",
    "\n",
    "plt.imshow(im_th)\n"
   ]
  },
  {
   "cell_type": "code",
   "execution_count": 6,
   "id": "94eb02c5",
   "metadata": {},
   "outputs": [
    {
     "ename": "NameError",
     "evalue": "name 'im' is not defined",
     "output_type": "error",
     "traceback": [
      "\u001b[1;31m---------------------------------------------------------------------------\u001b[0m",
      "\u001b[1;31mNameError\u001b[0m                                 Traceback (most recent call last)",
      "\u001b[1;32m~\\AppData\\Local\\Temp/ipykernel_5776/4222831028.py\u001b[0m in \u001b[0;36m<module>\u001b[1;34m\u001b[0m\n\u001b[0;32m     16\u001b[0m \u001b[1;31m#show image\u001b[0m\u001b[1;33m\u001b[0m\u001b[1;33m\u001b[0m\u001b[1;33m\u001b[0m\u001b[0m\n\u001b[0;32m     17\u001b[0m \u001b[0mfig\u001b[0m\u001b[1;33m,\u001b[0m \u001b[0maxs\u001b[0m \u001b[1;33m=\u001b[0m \u001b[0mplt\u001b[0m\u001b[1;33m.\u001b[0m\u001b[0msubplots\u001b[0m\u001b[1;33m(\u001b[0m\u001b[0mnrows\u001b[0m\u001b[1;33m=\u001b[0m\u001b[1;36m2\u001b[0m\u001b[1;33m,\u001b[0m \u001b[0mncols\u001b[0m\u001b[1;33m=\u001b[0m\u001b[1;36m2\u001b[0m\u001b[1;33m,\u001b[0m \u001b[0mfigsize\u001b[0m\u001b[1;33m=\u001b[0m\u001b[1;33m(\u001b[0m\u001b[1;36m10\u001b[0m\u001b[1;33m,\u001b[0m\u001b[1;36m10\u001b[0m\u001b[1;33m)\u001b[0m\u001b[1;33m)\u001b[0m\u001b[1;33m\u001b[0m\u001b[1;33m\u001b[0m\u001b[0m\n\u001b[1;32m---> 18\u001b[1;33m \u001b[0maxs\u001b[0m\u001b[1;33m[\u001b[0m\u001b[1;36m0\u001b[0m\u001b[1;33m,\u001b[0m\u001b[1;36m0\u001b[0m\u001b[1;33m]\u001b[0m\u001b[1;33m.\u001b[0m\u001b[0mimshow\u001b[0m\u001b[1;33m(\u001b[0m\u001b[0mim\u001b[0m\u001b[1;33m)\u001b[0m\u001b[1;33m\u001b[0m\u001b[1;33m\u001b[0m\u001b[0m\n\u001b[0m\u001b[0;32m     19\u001b[0m \u001b[0maxs\u001b[0m\u001b[1;33m[\u001b[0m\u001b[1;36m0\u001b[0m\u001b[1;33m,\u001b[0m\u001b[1;36m0\u001b[0m\u001b[1;33m]\u001b[0m\u001b[1;33m.\u001b[0m\u001b[0mset_title\u001b[0m\u001b[1;33m(\u001b[0m\u001b[1;34m\"Imagem original\"\u001b[0m\u001b[1;33m,\u001b[0m \u001b[0msize\u001b[0m\u001b[1;33m=\u001b[0m\u001b[1;36m15\u001b[0m\u001b[1;33m)\u001b[0m\u001b[1;33m\u001b[0m\u001b[1;33m\u001b[0m\u001b[0m\n\u001b[0;32m     20\u001b[0m \u001b[0maxs\u001b[0m\u001b[1;33m[\u001b[0m\u001b[1;36m0\u001b[0m\u001b[1;33m,\u001b[0m\u001b[1;36m1\u001b[0m\u001b[1;33m]\u001b[0m\u001b[1;33m.\u001b[0m\u001b[0mimshow\u001b[0m\u001b[1;33m(\u001b[0m\u001b[0mGx\u001b[0m\u001b[1;33m)\u001b[0m\u001b[1;33m\u001b[0m\u001b[1;33m\u001b[0m\u001b[0m\n",
      "\u001b[1;31mNameError\u001b[0m: name 'im' is not defined"
     ]
    },
    {
     "data": {
      "image/png": "[encoded data removed]",
      "text/plain": [
       "<Figure size 720x720 with 4 Axes>"
      ]
     },
     "metadata": {
      "needs_background": "light"
     },
     "output_type": "display_data"
    }
   ],
   "source": [
    "\n",
    "    \n",
    "im1 = img_in.astype(np.int16)\n",
    "    \n",
    "# filter kernel    \n",
    "gx = np.array([[-1, -2, -1], [0, 0, 0], [1, 2, 1]])\n",
    "gy = np.array([[-1, 0, 1], [-2, 0, 2], [-1, 0, 1]])\n",
    "\n",
    "#filter\n",
    "Gx = abs(cv2.filter2D(im1,-1,gx))\n",
    "Gy = abs(cv2.filter2D(im1,-1,gy))\n",
    "im_out = Gx+Gy\n",
    "\n",
    "Gx = Gx.astype(np.uint8)\n",
    "Gy = Gy.astype(np.uint8)\n",
    "im_out = im_out.astype(np.uint8)\n",
    "\n",
    "#show image\n",
    "fig, axs = plt.subplots(nrows=2, ncols=2, figsize=(10,10))\n",
    "axs[0,0].imshow(im)\n",
    "axs[0,0].set_title(\"Imagem original\", size=15)\n",
    "axs[0,1].imshow(Gx)\n",
    "axs[0,1].set_title(\"Imagem filtrada com o filtro $g_x$\",size=15)\n",
    "axs[1,0].imshow(Gy)\n",
    "axs[1,0].set_title(\"Imagem filtrada com o filtro $g_x$\",size=15)\n",
    "axs[1,1].imshow(im_out)\n",
    "axs[1,1].set_title(\"Imagem filtrada com o filtro $|Gx|+|Gy|$\",size=15)"
   ]
  },
  {
   "cell_type": "code",
   "execution_count": null,
   "id": "590ca039",
   "metadata": {},
   "outputs": [],
   "source": []
  }
 ],
 "metadata": {
  "kernelspec": {
   "display_name": "Python 3 (ipykernel)",
   "language": "python",
   "name": "python3"
  },
  "language_info": {
   "codemirror_mode": {
    "name": "ipython",
    "version": 3
   },
   "file_extension": ".py",
   "mimetype": "text/x-python",
   "name": "python",
   "nbconvert_exporter": "python",
   "pygments_lexer": "ipython3",
   "version": "3.9.6"
  }
 },
 "nbformat": 4,
 "nbformat_minor": 5
}
