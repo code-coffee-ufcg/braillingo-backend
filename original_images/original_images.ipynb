{
 "cells": [
  {
   "cell_type": "markdown",
   "source": [
    "# Gerando Imagens de Caractere em Braille\n",
    "***"
   ],
   "metadata": {}
  },
  {
   "cell_type": "markdown",
   "source": [
    "## Importações"
   ],
   "metadata": {}
  },
  {
   "cell_type": "code",
   "execution_count": 1,
   "source": [
    "import pandas as pd\n",
    "import os\n",
    "import sys\n",
    "sys.path.append(\"../image_generator/\")\n",
    "import image_generator as ig\n",
    "import matplotlib.pyplot as plt\n",
    "import numpy as np\n",
    "from PIL import Image\n",
    "import shutil"
   ],
   "outputs": [],
   "metadata": {}
  },
  {
   "cell_type": "markdown",
   "source": [
    "## Funções Auxiliares"
   ],
   "metadata": {}
  },
  {
   "cell_type": "code",
   "execution_count": 2,
   "source": [
    "def load_dataframe(csv_file):\n",
    "    '''\n",
    "    Carrega um arquivo .csv em um dataframe.\n",
    "\n",
    "    Entrada:\n",
    "    csv_file -> localização do arquivo csv no diretório.\n",
    "\n",
    "    Saída:\n",
    "    dataframe -> dataframe com os dados do arquivo csv.\n",
    "    '''\n",
    "\n",
    "    dataframe = pd.read_csv(csv_file)\n",
    "\n",
    "    return dataframe"
   ],
   "outputs": [],
   "metadata": {}
  },
  {
   "cell_type": "code",
   "execution_count": 3,
   "source": [
    "def create_dir(dir_name):\n",
    "    '''\n",
    "    Define um novo diretório\n",
    "\n",
    "    Entrada:\n",
    "    dir_name -> caminho relativo do diretório.\n",
    "    '''\n",
    "\n",
    "    os.mkdir(dir_name)\n",
    "\n",
    "    return None"
   ],
   "outputs": [],
   "metadata": {}
  },
  {
   "cell_type": "code",
   "execution_count": 4,
   "source": [
    "def string_to_list(flatten_list):\n",
    "    '''\n",
    "    Correção de conversão da string para a lista da codificação dos caracteres em braille.\n",
    "\n",
    "    Entrada:\n",
    "    flatten_list -> lista em formato de string.\n",
    "\n",
    "    Saída:\n",
    "    flatten_list -> lista corrigida para o tipo de dados original.\n",
    "    '''\n",
    "\n",
    "    for i in range(0, len(flatten_list)):\n",
    "\n",
    "        aux_list = list()\n",
    "        flatten_list[i] = flatten_list[i].replace('[', '').replace(']', '').replace(',', '')\n",
    "        aux_list.append(int(flatten_list[i].replace('[', '').replace(']', '').replace(',', '')[0:1]))\n",
    "        aux_list.append(int(flatten_list[i].replace('[', '').replace(']', '').replace(',', '')[1:2]))\n",
    "        aux_list.append(int(flatten_list[i].replace('[', '').replace(']', '').replace(',', '')[2:3]))\n",
    "        aux_list.append(int(flatten_list[i].replace('[', '').replace(']', '').replace(',', '')[3:4]))\n",
    "        aux_list.append(int(flatten_list[i].replace('[', '').replace(']', '').replace(',', '')[4:5]))\n",
    "        aux_list.append(int(flatten_list[i].replace('[', '').replace(']', '').replace(',', '')[5:6]))\n",
    "        flatten_list[i] = aux_list\n",
    "\n",
    "    return flatten_list"
   ],
   "outputs": [],
   "metadata": {}
  },
  {
   "cell_type": "code",
   "execution_count": 5,
   "source": [
    "def zip_dir(zip_file, dir_name):\n",
    "    '''\n",
    "    Compacta o diretório com as imagens.\n",
    "\n",
    "    Entrada:\n",
    "    zip_file -> nome do arquivo compactado. \n",
    "    dir_name -> nome do diretório a ser compactado.\n",
    "    '''\n",
    "\n",
    "    shutil.make_archive(zip_file, 'zip', dir_name)\n",
    "\n",
    "    return None"
   ],
   "outputs": [],
   "metadata": {}
  },
  {
   "cell_type": "code",
   "execution_count": 6,
   "source": [
    "def generate_braille_images(csv_file, dir_name, zip_file):\n",
    "    '''\n",
    "    Gera imagens em braille a partir do arquivo csv.\n",
    "\n",
    "    Entrada:\n",
    "    csv_file -> localização no diretório do arquivo csv. \n",
    "    dir_name -> nome do diretório de destino.\n",
    "    zip_file -> nome do arquivo com os dados compactados.\n",
    "    '''\n",
    "\n",
    "    constructor = ig.image_generator()\n",
    "    dataframe = load_dataframe(csv_file)\n",
    "    \n",
    "    files = dataframe['Arquivo'].tolist()\n",
    "    flatten_list = dataframe['Codificacao'].tolist()\n",
    "    flatten_list = string_to_list(flatten_list)\n",
    "    create_dir(dir_name)\n",
    "\n",
    "    references = [files, flatten_list]\n",
    "\n",
    "    for i in range(0, len(references[0])):\n",
    "        image = Image.fromarray((constructor.caractere_generator(references[1][i]) * 255).astype(np.uint8))\n",
    "        image.save(dir_name + references[0][i])\n",
    "\n",
    "    zip_dir(zip_file, dir_name)\n",
    "    \n",
    "    return None "
   ],
   "outputs": [],
   "metadata": {}
  },
  {
   "cell_type": "markdown",
   "source": [
    "## Teste de Classe"
   ],
   "metadata": {}
  },
  {
   "cell_type": "code",
   "execution_count": 7,
   "source": [
    "import original_images as oi \r\n",
    "constructor = oi.original_images()\r\n",
    "constructor.generate_braille_images('../csv-data/braile-pt-br.csv', 'images/', 'archive')"
   ],
   "outputs": [],
   "metadata": {}
  }
 ],
 "metadata": {
  "interpreter": {
   "hash": "836df398001d1aac78eb9ff390cb7b1b5ffe100f888216d214368cf555e342d0"
  },
  "kernelspec": {
   "name": "python3",
   "display_name": "Python 3.8.10 64-bit"
  },
  "language_info": {
   "codemirror_mode": {
    "name": "ipython",
    "version": 3
   },
   "file_extension": ".py",
   "mimetype": "text/x-python",
   "name": "python",
   "nbconvert_exporter": "python",
   "pygments_lexer": "ipython3",
   "version": "3.8.10"
  }
 },
 "nbformat": 4,
 "nbformat_minor": 2
}