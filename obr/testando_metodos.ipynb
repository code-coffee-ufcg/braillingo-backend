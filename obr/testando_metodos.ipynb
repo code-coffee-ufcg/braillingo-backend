{
  "nbformat": 4,
  "nbformat_minor": 0,
  "metadata": {
    "colab": {
      "name": "testando_metodos.ipynb",
      "provenance": [],
      "collapsed_sections": []
    },
    "kernelspec": {
      "name": "python3",
      "display_name": "Python 3"
    },
    "language_info": {
      "name": "python"
    }
  },
  "cells": [
    {
      "cell_type": "code",
      "metadata": {
        "id": "lHxSGG0NVnf6"
      },
      "source": [
        "!pip install keras-ocr"
      ],
      "execution_count": null,
      "outputs": []
    },
    {
      "cell_type": "code",
      "metadata": {
        "id": "Uc2f7bp4VwM2"
      },
      "source": [
        "import datetime\n",
        "import string\n",
        "import math\n",
        "import os\n",
        "import keras_ocr\n",
        "import matplotlib.pyplot as plt\n",
        "import numpy as np\n",
        "import tensorflow as tf\n",
        "import sklearn.model_selection\n"
      ],
      "execution_count": null,
      "outputs": []
    },
    {
      "cell_type": "code",
      "metadata": {
        "colab": {
          "base_uri": "https://localhost:8080/"
        },
        "id": "m2sA91Xp4q93",
        "outputId": "f0c18362-497f-40d3-f450-313eff704c80"
      },
      "source": [
        "caracteres_braille = {\n",
        "    'a':'⠁','b':'⠃','c':'⠉','d':'⠙','e':'⠑','f':'⠋',\n",
        "    'g':'⠛','h':'⠓','i':'⠊','j':'⠚','k':'⠅','l':'⠇',\n",
        "    'm':'⠍','n':'⠝','o':'⠕','p':'⠏','q':'⠟','r':'⠗',\n",
        "    's':'⠎','t':'⠞','u':'⠥','v':'⠧','w':'⠺','x':'⠭',\n",
        "    'y':'⠽','z':'⠵','á':'⠷','é':'⠿','í':'⠌','ó':'⠬',\n",
        "    'ú':'⠾','à':'⠫','â':'⠡','ê':'⠣','ô':'⠹','ã':'⠜',\n",
        "    'õ':'⠪','ç':'⠯',',':'⠂','.':'⠲',' ':' '\n",
        "}\n",
        "str_braille = \"⠁⠃⠉⠙⠑⠋⠛⠓⠊⠚⠅⠇⠍⠝⠕⠏⠟⠗⠎⠞⠥⠧⠺⠭⠽⠵⠷⠿⠌⠬⠾⠫⠡⠣⠹⠜⠪⠯⠂⠲\"\n",
        "              # \"⠁⠂⠃⠅⠇⠉⠊⠋⠌⠍⠎⠏⠑⠓⠕⠗⠙⠚⠛⠜⠝⠞⠟⠡⠣⠥⠧⠪⠫⠬⠭⠯⠲⠵⠷⠹⠺⠽⠾⠿\"\n",
        "braille_ordenado = ''.join(sorted(list(str_braille)))\n",
        "print(braille_ordenado)"
      ],
      "execution_count": null,
      "outputs": [
        {
          "output_type": "stream",
          "text": [
            "⠁⠂⠃⠅⠇⠉⠊⠋⠌⠍⠎⠏⠑⠓⠕⠗⠙⠚⠛⠜⠝⠞⠟⠡⠣⠥⠧⠪⠫⠬⠭⠯⠲⠵⠷⠹⠺⠽⠾⠿\n"
          ],
          "name": "stdout"
        }
      ]
    },
    {
      "cell_type": "markdown",
      "metadata": {
        "id": "4yWAhwWIcDRl"
      },
      "source": [
        "#### Função que converte um texto alfanumérico para braile"
      ]
    },
    {
      "cell_type": "code",
      "metadata": {
        "id": "ZqEKRE6sbsEF"
      },
      "source": [
        "def codificador_braille(frase):\n",
        "    for letra, braille in caracteres_braille.items():\n",
        "        for i in range(len(frase)):\n",
        "            if (letra == frase[i]):\n",
        "                frase[i] = braille\n",
        "    frase = \"\".join(frase)\n",
        "    return frase"
      ],
      "execution_count": null,
      "outputs": []
    },
    {
      "cell_type": "markdown",
      "metadata": {
        "id": "akrRfCSrchsO"
      },
      "source": [
        "#### Função que converte um texto em braille para alfanumérico"
      ]
    },
    {
      "cell_type": "code",
      "metadata": {
        "id": "1EBxiI2UcugZ"
      },
      "source": [
        "def decodificador_braille(frase):\n",
        "    for letra, braille in caracteres_braille.items():\n",
        "        for i in range(len(frase)):\n",
        "            if (braille == frase[i]):\n",
        "                frase[i] = letra\n",
        "    frase = \"\".join(frase)\n",
        "    return frase"
      ],
      "execution_count": null,
      "outputs": []
    },
    {
      "cell_type": "code",
      "metadata": {
        "colab": {
          "base_uri": "https://localhost:8080/"
        },
        "id": "iBRrf2W3dKxd",
        "outputId": "97e0ea5b-5d6f-443b-ad7c-f3d12c0b8169"
      },
      "source": [
        "frase = list(input(\"Insira a frase que será convertida para braille:\\n\"))\n",
        "print(\"\\nEsta é a sua frase convertida para braille:\")\n",
        "print(codificador_braille(frase))"
      ],
      "execution_count": null,
      "outputs": [
        {
          "output_type": "stream",
          "text": [
            "Insira a frase que será convertida para braille:\n",
            "acabou\n",
            "\n",
            "Esta é a sua frase convertida para braille:\n",
            "⠁⠉⠁⠃⠕⠥\n"
          ],
          "name": "stdout"
        }
      ]
    },
    {
      "cell_type": "code",
      "metadata": {
        "colab": {
          "base_uri": "https://localhost:8080/"
        },
        "id": "W2hsPZ1aduiO",
        "outputId": "9d72931c-a526-40be-ccf3-b92cdafdb44c"
      },
      "source": [
        "frase = list(input(\"Insira a frase em braille para ser decodificada:\\n\"))\n",
        "print(\"\\nEsta é a sua frase decodificada:\")\n",
        "print(decodificador_braille(frase))"
      ],
      "execution_count": null,
      "outputs": [
        {
          "output_type": "stream",
          "text": [
            "Insira a frase em braille para ser decodificada:\n",
            "⠋⠗⠁⠝⠉⠊⠝⠊⠇⠙⠕\n",
            "\n",
            "Esta é a sua frase decodificada:\n",
            "francinildo\n"
          ],
          "name": "stdout"
        }
      ]
    },
    {
      "cell_type": "code",
      "metadata": {
        "id": "M1oi2xhCnRdP"
      },
      "source": [
        "gabaritos = np.array([\n",
        "                      \"⠁⠑⠊⠕⠥\",\"⠋⠗⠁⠝⠉⠊⠝⠊⠇⠙⠕\",\"⠁⠇⠽⠎⠎⠕⠝\",\"⠊⠥⠗⠽\",\n",
        "                      \"⠏⠗⠕⠉⠑⠎⠎⠁⠍⠑⠝⠞⠕ ⠙⠊⠛⠊⠞⠁⠇ ⠙⠑ ⠊⠍⠁⠛⠑⠝⠎\",\n",
        "                      \"⠃⠗⠁⠊⠇⠇⠑\",\"⠧⠁⠊ ⠙⠁⠗ ⠉⠑⠗⠞⠕\",\"⠊⠍⠁⠛⠑⠍\",\n",
        "                      \"⠗⠑⠎⠥⠇⠞⠁⠙⠕\",\"⠁ ⠃ ⠉ ⠙ ⠑ ⠋ ⠛\",\"⠗⠁⠯⠜⠕\",\n",
        "                      \"⠞⠑⠭⠞⠕ ⠑⠍ ⠃⠗⠁⠊⠇⠇⠑\",\"⠎⠁⠇⠧⠁⠗ ⠧⠊⠙⠁⠎⠲\",\n",
        "                      \"⠓⠑⠝⠗⠊⠟⠥⠑\",\"⠕⠇⠷⠂ ⠎⠕⠥ ⠑⠥⠲\",\"⠁ ⠑ ⠊ ⠕ ⠥\",\n",
        "                      \"⠙⠑ ⠋⠗⠑⠝⠞⠑ ⠉⠕⠍ ⠕ ⠙⠑ ⠉⠕⠎⠞⠁⠎⠲\",\"⠛⠕⠎⠞⠑⠊⠲\",\n",
        "                      \"⠉⠕⠍⠏⠊⠇⠕⠥ ⠙⠑ ⠝⠕⠧⠕\",\"⠁⠉⠁⠃⠕⠥\"\n",
        "                    ])"
      ],
      "execution_count": null,
      "outputs": []
    },
    {
      "cell_type": "code",
      "metadata": {
        "colab": {
          "base_uri": "https://localhost:8080/"
        },
        "id": "E55990Os9ZfQ",
        "outputId": "afd7cefc-dead-4c7f-fd82-210e69b2c803"
      },
      "source": [
        "path = \"/content/drive/MyDrive/Colab Notebooks/imagens_atractor\"\n",
        "for img in os.listdir(path):\n",
        "    print(img)"
      ],
      "execution_count": null,
      "outputs": [
        {
          "output_type": "stream",
          "text": [
            "14.png\n",
            "12.png\n",
            "20.png\n",
            "17.png\n",
            "16.png\n",
            "13.png\n",
            "15.png\n",
            "18.png\n",
            "19.png\n",
            "11.png\n",
            "09.png\n",
            "07.png\n",
            "10.png\n",
            "08.png\n",
            "06.png\n",
            "05.png\n",
            "04.png\n",
            "03.png\n",
            "02.png\n",
            "01.png\n"
          ],
          "name": "stdout"
        }
      ]
    },
    {
      "cell_type": "code",
      "metadata": {
        "colab": {
          "base_uri": "https://localhost:8080/",
          "height": 288
        },
        "id": "wb_qaladgg9D",
        "outputId": "c0884de6-5062-4529-c356-b7779771fc2b"
      },
      "source": [
        "path = \"/content/drive/MyDrive/Colab Notebooks/imagens_atractor\"\n",
        "\n",
        "imagens = [\n",
        "           keras_ocr.tools.read(os.path.join(path,img)) for img in os.listdir(path)\n",
        "]\n",
        "imagens = np.array(imagens) \n",
        "plt.imshow(imagens[19])\n",
        "print(gabaritos[19])"
      ],
      "execution_count": null,
      "outputs": [
        {
          "output_type": "stream",
          "text": [
            "/usr/local/lib/python3.7/dist-packages/ipykernel_launcher.py:6: VisibleDeprecationWarning: Creating an ndarray from ragged nested sequences (which is a list-or-tuple of lists-or-tuples-or ndarrays with different lengths or shapes) is deprecated. If you meant to do this, you must specify 'dtype=object' when creating the ndarray\n",
            "  \n"
          ],
          "name": "stderr"
        },
        {
          "output_type": "stream",
          "text": [
            "⠁⠉⠁⠃⠕⠥\n"
          ],
          "name": "stdout"
        },
        {
          "output_type": "display_data",
          "data": {
            "image/png": "[encoded data removed]",
            "text/plain": [
              "<Figure size 432x288 with 1 Axes>"
            ]
          },
          "metadata": {
            "needs_background": "light"
          }
        }
      ]
    },
    {
      "cell_type": "code",
      "metadata": {
        "id": "t920mVn51-ji"
      },
      "source": [
        "gab_imagens = {}\n",
        "for i in range(gabarito.size):\n",
        "    gab_imagens[gabarito[i]] = imagens[i]"
      ],
      "execution_count": null,
      "outputs": []
    },
    {
      "cell_type": "code",
      "metadata": {
        "id": "Dwha-Wf_f6jQ"
      },
      "source": [
        "def get_train_val_test_split(arr):\n",
        "    train, valtest = sklearn.model_selection.train_test_split(arr, train_size=0.8, random_state=42)\n",
        "    val, test = sklearn.model_selection.train_test_split(valtest, train_size=0.5, random_state=42)\n",
        "    return train, val, test"
      ],
      "execution_count": null,
      "outputs": []
    },
    {
      "cell_type": "code",
      "metadata": {
        "id": "ReUA4uq_qM_z"
      },
      "source": [
        "gabaritos_splits = get_train_val_test_split(gabaritos)\n",
        "imagens_splits = get_train_val_test_split(imagens)"
      ],
      "execution_count": null,
      "outputs": []
    },
    {
      "cell_type": "code",
      "metadata": {
        "colab": {
          "base_uri": "https://localhost:8080/",
          "height": 236
        },
        "id": "HKhVkrJ46xc4",
        "outputId": "9b88eea6-49a5-4c3a-d78e-bdf6d90fddcf"
      },
      "source": [
        "plt.imshow(imagens_splits[0][10])\n",
        "print(gabaritos_splits[0][10])"
      ],
      "execution_count": null,
      "outputs": [
        {
          "output_type": "stream",
          "text": [
            "⠏⠗⠕⠉⠑⠎⠎⠁⠍⠑⠝⠞⠕ ⠙⠊⠛⠊⠞⠁⠇ ⠙⠑ ⠊⠍⠁⠛⠑⠝⠎\n"
          ],
          "name": "stdout"
        },
        {
          "output_type": "display_data",
          "data": {
            "image/png": "[encoded data removed]",
            "text/plain": [
              "<Figure size 432x288 with 1 Axes>"
            ]
          },
          "metadata": {
            "needs_background": "light"
          }
        }
      ]
    },
    {
      "cell_type": "code",
      "metadata": {
        "colab": {
          "base_uri": "https://localhost:8080/"
        },
        "id": "q4FZBRrCbYjq",
        "outputId": "bf6cba6e-3730-48f8-fc40-d4623a193b57"
      },
      "source": [
        "detector = keras_ocr.detection.Detector(weights='clovaai_general')\n",
        "recognizer = keras_ocr.recognition.Recognizer(\n",
        "    alphabet=braille_ordenado,\n",
        "    weights='kurapan'\n",
        ")\n",
        "recognizer.compile()\n",
        "for layer in recognizer.backbone.layers:\n",
        "    layer.trainable = False"
      ],
      "execution_count": null,
      "outputs": [
        {
          "output_type": "stream",
          "text": [
            "Looking for /root/.keras-ocr/craft_mlt_25k.h5\n",
            "Downloading /root/.keras-ocr/craft_mlt_25k.h5\n",
            "Provided alphabet does not match pretrained alphabet. Using backbone weights only.\n",
            "Looking for /root/.keras-ocr/crnn_kurapan_notop.h5\n",
            "Downloading /root/.keras-ocr/crnn_kurapan_notop.h5\n"
          ],
          "name": "stdout"
        }
      ]
    },
    {
      "cell_type": "code",
      "metadata": {
        "colab": {
          "base_uri": "https://localhost:8080/",
          "height": 367
        },
        "id": "XNxXLDk5gcDX",
        "outputId": "3b71a3e5-283e-406e-aa33-8c9130276f88"
      },
      "source": [
        "data_dir = '.'\n",
        "detector_batch_size = 1\n",
        "# Gerando um diretório com a data e o horário que a celula foi rodada\n",
        "detector_basepath = os.path.join(data_dir, f'detector_{datetime.datetime.now().isoformat()}')\n",
        "\n",
        "# Treinando o modelo detector\n",
        "detector.model.fit(\n",
        "    # Conjunto de treinamento\n",
        "    imagens_splits[0],\n",
        "    # Utilizando o tamanho do conjunto de treinamento de backgrounds para defi-\n",
        "    # nir os passos por época\n",
        "    steps_per_epoch=math.ceil(len(imagens_splits[0]) / detector_batch_size),\n",
        "    # Quantidade de épocas\n",
        "    epochs=1,\n",
        "    workers=0,\n",
        "    callbacks=[\n",
        "        tf.keras.callbacks.EarlyStopping(restore_best_weights=True, patience=5),\n",
        "        tf.keras.callbacks.CSVLogger(f'{detector_basepath}.csv'),\n",
        "        tf.keras.callbacks.ModelCheckpoint(filepath=f'{detector_basepath}.h5')\n",
        "    ],\n",
        "    validation_data=imagens_splits[1],\n",
        "    validation_steps=math.ceil(len(imagens_splits[1]) / detector_batch_size),\n",
        "    batch_size=detector_batch_size\n",
        ")"
      ],
      "execution_count": null,
      "outputs": [
        {
          "output_type": "error",
          "ename": "ValueError",
          "evalue": "ignored",
          "traceback": [
            "\u001b[0;31m---------------------------------------------------------------------------\u001b[0m",
            "\u001b[0;31mValueError\u001b[0m                                Traceback (most recent call last)",
            "\u001b[0;32m<ipython-input-49-182bd56689e6>\u001b[0m in \u001b[0;36m<module>\u001b[0;34m()\u001b[0m\n\u001b[1;32m     21\u001b[0m     \u001b[0mvalidation_data\u001b[0m\u001b[0;34m=\u001b[0m\u001b[0mimagens_splits\u001b[0m\u001b[0;34m[\u001b[0m\u001b[0;36m1\u001b[0m\u001b[0;34m]\u001b[0m\u001b[0;34m,\u001b[0m\u001b[0;34m\u001b[0m\u001b[0;34m\u001b[0m\u001b[0m\n\u001b[1;32m     22\u001b[0m     \u001b[0mvalidation_steps\u001b[0m\u001b[0;34m=\u001b[0m\u001b[0mmath\u001b[0m\u001b[0;34m.\u001b[0m\u001b[0mceil\u001b[0m\u001b[0;34m(\u001b[0m\u001b[0mlen\u001b[0m\u001b[0;34m(\u001b[0m\u001b[0mimagens_splits\u001b[0m\u001b[0;34m[\u001b[0m\u001b[0;36m1\u001b[0m\u001b[0;34m]\u001b[0m\u001b[0;34m)\u001b[0m \u001b[0;34m/\u001b[0m \u001b[0mdetector_batch_size\u001b[0m\u001b[0;34m)\u001b[0m\u001b[0;34m,\u001b[0m\u001b[0;34m\u001b[0m\u001b[0;34m\u001b[0m\u001b[0m\n\u001b[0;32m---> 23\u001b[0;31m     \u001b[0mbatch_size\u001b[0m\u001b[0;34m=\u001b[0m\u001b[0mdetector_batch_size\u001b[0m\u001b[0;34m\u001b[0m\u001b[0;34m\u001b[0m\u001b[0m\n\u001b[0m\u001b[1;32m     24\u001b[0m )\n",
            "\u001b[0;32m/usr/local/lib/python3.7/dist-packages/keras/engine/training.py\u001b[0m in \u001b[0;36mfit\u001b[0;34m(self, x, y, batch_size, epochs, verbose, callbacks, validation_split, validation_data, shuffle, class_weight, sample_weight, initial_epoch, steps_per_epoch, validation_steps, validation_batch_size, validation_freq, max_queue_size, workers, use_multiprocessing)\u001b[0m\n\u001b[1;32m   1121\u001b[0m               (x, y, sample_weight), validation_split=validation_split))\n\u001b[1;32m   1122\u001b[0m \u001b[0;34m\u001b[0m\u001b[0m\n\u001b[0;32m-> 1123\u001b[0;31m     \u001b[0;32mif\u001b[0m \u001b[0mvalidation_data\u001b[0m\u001b[0;34m:\u001b[0m\u001b[0;34m\u001b[0m\u001b[0;34m\u001b[0m\u001b[0m\n\u001b[0m\u001b[1;32m   1124\u001b[0m       val_x, val_y, val_sample_weight = (\n\u001b[1;32m   1125\u001b[0m           data_adapter.unpack_x_y_sample_weight(validation_data))\n",
            "\u001b[0;31mValueError\u001b[0m: The truth value of an array with more than one element is ambiguous. Use a.any() or a.all()"
          ]
        }
      ]
    }
  ]
}