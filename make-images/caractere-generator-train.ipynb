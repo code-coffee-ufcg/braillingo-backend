{
 "cells": [
  {
   "cell_type": "markdown",
   "metadata": {},
   "source": [
    "# Gerador de Imagens\n",
    "***"
   ]
  },
  {
   "cell_type": "markdown",
   "metadata": {},
   "source": [
    "## Importações"
   ]
  },
  {
   "cell_type": "code",
   "execution_count": 11,
   "metadata": {},
   "outputs": [],
   "source": [
    "# pacote de procedimentos numéricos\n",
    "import numpy as np\n",
    "# pacote de morfologia matemática\n",
    "import skimage.morphology as sk\n",
    "# pacote de visualização gráfica\n",
    "import matplotlib.pyplot as plt"
   ]
  },
  {
   "cell_type": "markdown",
   "metadata": {},
   "source": [
    "## Funções Auxiliares "
   ]
  },
  {
   "cell_type": "code",
   "execution_count": 2,
   "metadata": {},
   "outputs": [],
   "source": [
    "def element_generator(radius=4, state=True):\n",
    "    ''''\n",
    "    Gera um furo (elemento) do caractere em braille\n",
    "    '''\n",
    "\n",
    "    element = sk.disk(radius)\n",
    "\n",
    "    if state == True:\n",
    "        element[0, element.shape[1] // 2] = 0\n",
    "        element[-1, element.shape[1] // 2] = 0\n",
    "        element[element.shape[0] // 2, 0] = 0\n",
    "        element[element.shape[0] // 2, -1] = 0\n",
    "    else:\n",
    "        element = np.zeros(element.shape, dtype='uint8')\n",
    "    \n",
    "    return element "
   ]
  },
  {
   "cell_type": "code",
   "execution_count": 3,
   "metadata": {},
   "outputs": [],
   "source": [
    "def zero_padding(image, width=1):\n",
    "    '''\n",
    "    Adiciona zeros na borda de um array\n",
    "    '''\n",
    "\n",
    "    image = np.pad(image, pad_width=width, mode='constant')\n",
    "\n",
    "    return image "
   ]
  },
  {
   "cell_type": "code",
   "execution_count": 4,
   "metadata": {},
   "outputs": [],
   "source": [
    "def make_caractere(encoded_image, radius=4, pad_width=1):\n",
    "    '''\n",
    "    Gera uma imagem do caractere em braille\n",
    "    '''\n",
    "    \n",
    "    caractere = [[np.concatenate((element_generator(radius, encoded_image[0][0]), \n",
    "                                  element_generator(radius, encoded_image[0][1])), axis=1)],\n",
    "                 [np.concatenate((element_generator(radius, encoded_image[1][0]), \n",
    "                                  element_generator(radius, encoded_image[1][1])), axis=1)],\n",
    "                 [np.concatenate((element_generator(radius, encoded_image[2][0]), \n",
    "                                  element_generator(radius, encoded_image[2][1])), axis=1)]]\n",
    "\n",
    "    caractere = np.concatenate((np.squeeze(caractere[0]),np.squeeze(caractere[1]), np.squeeze(caractere[2])))\n",
    "\n",
    "    caractere = zero_padding(caractere, width=pad_width)\n",
    "\n",
    "    \n",
    "    return caractere"
   ]
  },
  {
   "cell_type": "code",
   "execution_count": 5,
   "metadata": {},
   "outputs": [],
   "source": [
    "def reshape_encoded_image(flatten):\n",
    "    '''\n",
    "    Cria uma array com o formato do gabarito de furos em braille\n",
    "    '''\n",
    "\n",
    "    encoded_image = np.array(flatten, dtype='uint8')\n",
    "    encoded_image = encoded_image.reshape(3,2)\n",
    "    \n",
    "\n",
    "    return encoded_image"
   ]
  },
  {
   "cell_type": "code",
   "execution_count": 6,
   "metadata": {},
   "outputs": [],
   "source": [
    "def caractere_generator(flatten_image, radius=4, pad_width=3):\n",
    "    '''\n",
    "    Gera um caractere em braille a partir de um array codificado\n",
    "    '''\n",
    "\n",
    "    encoded_image = reshape_encoded_image(flatten_image)\n",
    "    caractere = make_caractere(encoded_image, radius, pad_width)\n",
    "\n",
    "\n",
    "    return caractere"
   ]
  },
  {
   "cell_type": "markdown",
   "metadata": {},
   "source": [
    "## Teste da Classe"
   ]
  },
  {
   "cell_type": "code",
   "execution_count": 13,
   "metadata": {},
   "outputs": [
    {
     "data": {
      "text/plain": [
       "<matplotlib.image.AxesImage at 0x10cbf16b820>"
      ]
     },
     "execution_count": 13,
     "metadata": {},
     "output_type": "execute_result"
    },
    {
     "data": {
      "image/png": "[encoded data removed]",
      "text/plain": [
       "<Figure size 432x288 with 1 Axes>"
      ]
     },
     "metadata": {
      "needs_background": "light"
     },
     "output_type": "display_data"
    }
   ],
   "source": [
    "import caractere_generator_v_1_0 as gi\n",
    "constructor = gi.caractere_gen_v_1_0()\n",
    "plt.imshow(constructor.caractere_generator([1,0,1,0,1,0], radius=4, pad_width=3), cmap='gray')"
   ]
  }
 ],
 "metadata": {
  "interpreter": {
   "hash": "1de5f8a4b5b587cbc145288bce217672fd590a96c616aba42da42832e697a42d"
  },
  "kernelspec": {
   "display_name": "Python 3.8.8 64-bit ('base': conda)",
   "name": "python3"
  },
  "language_info": {
   "codemirror_mode": {
    "name": "ipython",
    "version": 3
   },
   "file_extension": ".py",
   "mimetype": "text/x-python",
   "name": "python",
   "nbconvert_exporter": "python",
   "pygments_lexer": "ipython3",
   "version": "3.8.8"
  }
 },
 "nbformat": 4,
 "nbformat_minor": 2
}
