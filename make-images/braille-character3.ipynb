{
 "cells": [
  {
   "cell_type": "markdown",
   "source": [
    "# Organizando os Dados de Teste\r\n",
    "#### Ref: https://www.kaggle.com/shanks0465/braille-character-dataset\r\n",
    "***"
   ],
   "metadata": {}
  },
  {
   "cell_type": "markdown",
   "source": [
    "## Importação dos Pacotes"
   ],
   "metadata": {}
  },
  {
   "cell_type": "code",
   "execution_count": 1,
   "source": [
    "# pacote de gerenciamento de arquivos no sistema operacional\r\n",
    "import os\r\n",
    "# pacote de gerenciamento de arquivos\r\n",
    "import shutil\r\n",
    "# pacote de gerenciamento de conjunto de dados\r\n",
    "import pandas as pd\r\n",
    "# pacote de procedimentos numéricos utilizando matrizes \r\n",
    "import numpy as np\r\n",
    "# pacote de visualização grafica\r\n",
    "import matplotlib.pyplot as plt\r\n",
    "# pacote de visão computacional\r\n",
    "import cv2\r\n",
    "# pacote de manipulação em imagens\r\n",
    "from PIL import Image"
   ],
   "outputs": [],
   "metadata": {}
  },
  {
   "cell_type": "markdown",
   "source": [
    "## Organizando os Padrões das Imagens de Teste\r\n",
    "***"
   ],
   "metadata": {}
  },
  {
   "cell_type": "code",
   "execution_count": 3,
   "source": [
    "# listando as imagens de teste\r\n",
    "list_images = os.listdir('../files/images3/')"
   ],
   "outputs": [],
   "metadata": {}
  },
  {
   "cell_type": "code",
   "execution_count": 5,
   "source": [
    "# carregando as imagens de teste em um array multidimensional\r\n",
    "list_array = []\r\n",
    "for i in range(0, len(list_images)):\r\n",
    "    list_array.append(plt.imread('../files/images3/'+list_images[i]))\r\n",
    "\r\n",
    "list_array = np.array(list_array)"
   ],
   "outputs": [],
   "metadata": {}
  },
  {
   "cell_type": "code",
   "execution_count": 55,
   "source": [
    "# modificando as dimensões das imagens\r\n",
    "aux = []\r\n",
    "for i in range(0, len(list_array)):\r\n",
    "    aux.append(~cv2.cvtColor(cv2.resize(list_array[i].copy(), dsize = (24,33)), cv2.COLOR_BGR2GRAY))\r\n",
    "\r\n",
    "aux = np.array(aux)\r\n",
    "list_array = aux "
   ],
   "outputs": [],
   "metadata": {}
  },
  {
   "cell_type": "code",
   "execution_count": 59,
   "source": [
    "# salvando as imagens modificadas na pasta de teste\r\n",
    "for i in range(0, len(list_array)):\r\n",
    "    image = Image.fromarray(list_array[i].astype(np.uint8))\r\n",
    "    image.save('../files/images3/'+list_images[i][0:-4]+'.tiff')"
   ],
   "outputs": [],
   "metadata": {}
  },
  {
   "cell_type": "code",
   "execution_count": 63,
   "source": [
    "# removendo imagens no padrão antigo\r\n",
    "for i in range(0, len(list_images)):\r\n",
    "    os.remove('../files/images3/'+list_images[i])"
   ],
   "outputs": [],
   "metadata": {}
  },
  {
   "cell_type": "code",
   "execution_count": 65,
   "source": [
    "# removendo arquivo compactado no padrão antigo\r\n",
    "os.remove('../files/images3.zip')"
   ],
   "outputs": [],
   "metadata": {}
  },
  {
   "cell_type": "code",
   "execution_count": 4,
   "source": [
    "# compactando imagens de teste no novo padrão desejado\r\n",
    "shutil.make_archive('../files/images3', 'zip', '../files/images3')"
   ],
   "outputs": [
    {
     "output_type": "execute_result",
     "data": {
      "text/plain": [
       "'c:\\\\Users\\\\Alysson\\\\OneDrive\\\\Documents\\\\projetos-github\\\\braillingo\\\\files\\\\images3.zip'"
      ]
     },
     "metadata": {},
     "execution_count": 4
    }
   ],
   "metadata": {}
  },
  {
   "cell_type": "code",
   "execution_count": 2,
   "source": [
    "# pegando as novas imagens de referencia\r\n",
    "list_images = os.listdir('../files/images3/')"
   ],
   "outputs": [],
   "metadata": {}
  },
  {
   "cell_type": "code",
   "execution_count": 93,
   "source": [
    "# carregando os rótulos das imagens em um array\r\n",
    "alphabet = 'abcdefghijklmnopqrstuvwxyz'\r\n",
    "labels = []\r\n",
    "for i in range(0, len(list_images)):\r\n",
    "    labels.append(alphabet.find(list_images[i][0:1])+1)"
   ],
   "outputs": [],
   "metadata": {}
  },
  {
   "cell_type": "code",
   "execution_count": 96,
   "source": [
    "# organizando as dimensões dos dados\r\n",
    "list_images = np.array(list_images)\r\n",
    "labels = np.array(labels)\r\n",
    "labels = np.reshape(labels, (len(labels), 1))\r\n",
    "list_images = np.reshape(list_images, (len(list_images), 1))"
   ],
   "outputs": [],
   "metadata": {}
  },
  {
   "cell_type": "code",
   "execution_count": 99,
   "source": [
    "# salvando as referências dos arquivos de imagens e seus rótulos em um dataframe\r\n",
    "dataframe_array = np.concatenate((list_images, labels), axis=1)\r\n",
    "dataframe = pd.DataFrame(dataframe_array, columns=['Path', 'Labels'])"
   ],
   "outputs": [],
   "metadata": {}
  },
  {
   "cell_type": "code",
   "execution_count": 101,
   "source": [
    "# exportando o dataframe para um arquivos CSV\r\n",
    "dataframe.to_csv('../csv_data/braille_character3.csv')"
   ],
   "outputs": [],
   "metadata": {}
  }
 ],
 "metadata": {
  "orig_nbformat": 4,
  "language_info": {
   "name": "python",
   "version": "3.8.8",
   "mimetype": "text/x-python",
   "codemirror_mode": {
    "name": "ipython",
    "version": 3
   },
   "pygments_lexer": "ipython3",
   "nbconvert_exporter": "python",
   "file_extension": ".py"
  },
  "kernelspec": {
   "name": "python3",
   "display_name": "Python 3.8.8 64-bit ('base': conda)"
  },
  "interpreter": {
   "hash": "1de5f8a4b5b587cbc145288bce217672fd590a96c616aba42da42832e697a42d"
  }
 },
 "nbformat": 4,
 "nbformat_minor": 2
}