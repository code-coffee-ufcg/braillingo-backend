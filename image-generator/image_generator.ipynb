{
 "cells": [
  {
   "cell_type": "markdown",
   "source": [
    "# Gerador de Imagens\r\n",
    "***"
   ],
   "metadata": {}
  },
  {
   "cell_type": "markdown",
   "source": [
    "## 1. Importação dos Pacotes\r\n",
    "***"
   ],
   "metadata": {}
  },
  {
   "cell_type": "code",
   "execution_count": 11,
   "source": [
    "import numpy as np # pacote de procedimentos numéricos\r\n",
    "import skimage.morphology as sk # pacote de morfologia matemática\r\n",
    "import matplotlib.pyplot as plt # pacote de visualização gráfica\r\n",
    "import pandas as pd # pacote de gerenciamento de dataframes\r\n",
    "from PIL import Image # pacote de operações com imagens"
   ],
   "outputs": [],
   "metadata": {}
  },
  {
   "cell_type": "markdown",
   "source": [
    "## 2. Funções para Gerar Dígitos em Braille\r\n",
    "***"
   ],
   "metadata": {}
  },
  {
   "cell_type": "code",
   "execution_count": 10,
   "source": [
    "def element_generator(radius = 4, state = True):\r\n",
    "    ''''\r\n",
    "    gera um furo (elemento) do caractere em braille\r\n",
    "\r\n",
    "    Args:\r\n",
    "        radius (int) -- raio do furo\r\n",
    "        state (bool) -- indica se há ou não furo na imagem\r\n",
    "\r\n",
    "    Return:\r\n",
    "        element (array) -- retornar um elemento do braille\r\n",
    "    '''\r\n",
    "\r\n",
    "    element = sk.disk(radius)\r\n",
    "\r\n",
    "    if state == True:\r\n",
    "        element[0, element.shape[1] // 2] = 0\r\n",
    "        element[-1, element.shape[1] // 2] = 0\r\n",
    "        element[element.shape[0] // 2, 0] = 0\r\n",
    "        element[element.shape[0] // 2, -1] = 0\r\n",
    "    else:\r\n",
    "        element = np.zeros(element.shape, dtype='uint8')\r\n",
    "    \r\n",
    "    return element "
   ],
   "outputs": [],
   "metadata": {}
  },
  {
   "cell_type": "code",
   "execution_count": 11,
   "source": [
    "def zero_padding(image, width = 1):\r\n",
    "    '''\r\n",
    "    adiciona zeros na borda de um array\r\n",
    "\r\n",
    "    Args:\r\n",
    "        image (array) -- array da imagem\r\n",
    "        width (int) -- espessura em pixels da borda\r\n",
    "    \r\n",
    "    Return:\r\n",
    "        image (array) -- array da imagem com borda adicionada\r\n",
    "    '''\r\n",
    "\r\n",
    "    image = np.pad(image, pad_width=width, mode='constant')\r\n",
    "\r\n",
    "    return image "
   ],
   "outputs": [],
   "metadata": {}
  },
  {
   "cell_type": "code",
   "execution_count": 12,
   "source": [
    "def reshape_encoded_image(flatten):\r\n",
    "    '''\r\n",
    "    cria uma array com o formato do gabarito de furos em braille\r\n",
    "\r\n",
    "    Args:\r\n",
    "        flatten (list) -- lista codificada do estado de furo do caractere\r\n",
    "\r\n",
    "    Return:\r\n",
    "        encoded_image (array) -- array do estado de furo do caractere\r\n",
    "    '''\r\n",
    "\r\n",
    "    encoded_image = np.array(flatten, dtype='uint8')\r\n",
    "    encoded_image = encoded_image.reshape(3,2)\r\n",
    "    \r\n",
    "\r\n",
    "    return encoded_image"
   ],
   "outputs": [],
   "metadata": {}
  },
  {
   "cell_type": "code",
   "execution_count": 13,
   "source": [
    "def make_caractere(encoded_image, radius = 4, pad_width = 1):\r\n",
    "    '''\r\n",
    "    gera uma imagem do caractere em braille\r\n",
    "\r\n",
    "    Args:\r\n",
    "        encoded_image (array) -- array com o estado de furos do dígito\r\n",
    "        radius (int) -- raio do furo\r\n",
    "        pad_width (int) - espessura em pixels da borda dos elementos\r\n",
    "    \r\n",
    "    Return:\r\n",
    "        caractere (array) -- imagem do caractere em braille\r\n",
    "    '''\r\n",
    "    \r\n",
    "    caractere = [[np.concatenate((element_generator(radius, encoded_image[0][0]), \r\n",
    "                                  element_generator(radius, encoded_image[0][1])), axis=1)],\r\n",
    "                 [np.concatenate((element_generator(radius, encoded_image[1][0]), \r\n",
    "                                  element_generator(radius, encoded_image[1][1])), axis=1)],\r\n",
    "                 [np.concatenate((element_generator(radius, encoded_image[2][0]), \r\n",
    "                                  element_generator(radius, encoded_image[2][1])), axis=1)]]\r\n",
    "\r\n",
    "    caractere = np.concatenate((np.squeeze(caractere[0]),np.squeeze(caractere[1]), np.squeeze(caractere[2])))\r\n",
    "\r\n",
    "    caractere = zero_padding(caractere, width=pad_width)\r\n",
    "    \r\n",
    "    return caractere"
   ],
   "outputs": [],
   "metadata": {}
  },
  {
   "cell_type": "code",
   "execution_count": 38,
   "source": [
    "def string_to_list(flatten_list):\r\n",
    "    '''\r\n",
    "    correção de conversão da string para a lista da codificação dos caracteres em braille\r\n",
    "\r\n",
    "    Args:\r\n",
    "        flatten_list (string) -- lista de codificação do caractere em string\r\n",
    "\r\n",
    "    Returns:\r\n",
    "        flatten_list (list) -- lista de codificação do caractere\r\n",
    "    '''\r\n",
    "\r\n",
    "    for i in range(0, len(flatten_list)):\r\n",
    "\r\n",
    "        aux_list = list()\r\n",
    "        flatten_list[i] = flatten_list[i].replace('[', '').replace(']', '').replace(',', '')\r\n",
    "        aux_list.append(int(flatten_list[i].replace('[', '').replace(']', '').replace(',', '')[0:1]))\r\n",
    "        aux_list.append(int(flatten_list[i].replace('[', '').replace(']', '').replace(',', '')[1:2]))\r\n",
    "        aux_list.append(int(flatten_list[i].replace('[', '').replace(']', '').replace(',', '')[2:3]))\r\n",
    "        aux_list.append(int(flatten_list[i].replace('[', '').replace(']', '').replace(',', '')[3:4]))\r\n",
    "        aux_list.append(int(flatten_list[i].replace('[', '').replace(']', '').replace(',', '')[4:5]))\r\n",
    "        aux_list.append(int(flatten_list[i].replace('[', '').replace(']', '').replace(',', '')[5:6]))\r\n",
    "        flatten_list[i] = aux_list\r\n",
    "\r\n",
    "    return flatten_list"
   ],
   "outputs": [],
   "metadata": {}
  },
  {
   "cell_type": "code",
   "execution_count": 55,
   "source": [
    "def dict_codification(dataframe_path = 'braille-pt-br.csv', usecols = ['Codificacao', 'Rotulo']):\r\n",
    "    '''\r\n",
    "    cria um dicionário com a codificação do alfabeto em braille\r\n",
    "\r\n",
    "    Args:\r\n",
    "        dataframe_path (string) -- caminho do arquivo csv com os dados de codificação\r\n",
    "    \r\n",
    "    Return:\r\n",
    "        dict_elements (dict) -- codificação dos dígitos em um dicionário  \r\n",
    "    '''\r\n",
    "\r\n",
    "    dataframe = pd.read_csv(dataframe_path, delimiter = ',', usecols = usecols)\r\n",
    "\r\n",
    "    codificacao = string_to_list(list(dataframe['Codificacao']))\r\n",
    "    rotulo = list(dataframe['Rotulo'])\r\n",
    "\r\n",
    "    return dict(zip(rotulo, codificacao))"
   ],
   "outputs": [],
   "metadata": {}
  },
  {
   "cell_type": "code",
   "execution_count": 113,
   "source": [
    "def caractere_generator(caractere_str, radius = 4, pad_width = 4):\r\n",
    "    '''\r\n",
    "    gera um caractere em braille a partir de um array codificado\r\n",
    "\r\n",
    "    Args:\r\n",
    "        caractere_str (string) -- caractere a ser gerado em braille\r\n",
    "        radius (int) -- raio do elemento do caractere\r\n",
    "        pad_width (int) -- espessura da borda do elemento\r\n",
    "    \r\n",
    "    Return:\r\n",
    "        caractere (array) -- imagem do caractere\r\n",
    "    '''\r\n",
    "    if caractere_str == ' ':\r\n",
    "        caractere = make_caractere(np.array([[0,0], [0,0], [0,0]]), radius, pad_width)\r\n",
    "    else:\r\n",
    "        encoded_image = reshape_encoded_image(dict_codification()[caractere_str])\r\n",
    "        caractere = make_caractere(encoded_image, radius, pad_width)\r\n",
    "\r\n",
    "    return caractere"
   ],
   "outputs": [],
   "metadata": {}
  },
  {
   "cell_type": "markdown",
   "source": [
    "## 3. Funções para Gerar as Imagens em Braille\r\n",
    "***"
   ],
   "metadata": {}
  },
  {
   "cell_type": "code",
   "execution_count": 103,
   "source": [
    "def concatenate_caractere(list_caractere, axis = 1):\r\n",
    "    '''\r\n",
    "    função que concatena linhas e colunas de dígitos em braille\r\n",
    "\r\n",
    "    Args:\r\n",
    "        list_caractere (list) -- lista de arrays com os caracteres em braille\r\n",
    "        axis (int) -- eixo de concatenação das imagens\r\n",
    "    \r\n",
    "    return:\r\n",
    "        image_block (array) -- array com os dígitos concatenador\r\n",
    "    '''\r\n",
    "\r\n",
    "    for i in range(0, len(list_caractere)):\r\n",
    "\r\n",
    "        if i == 0:\r\n",
    "            image_block = list_caractere[i]\r\n",
    "        else:\r\n",
    "            image_block = np.concatenate((image_block, list_caractere[i]), axis = axis)\r\n",
    "        \r\n",
    "    return image_block\r\n",
    "\r\n"
   ],
   "outputs": [],
   "metadata": {}
  },
  {
   "cell_type": "code",
   "execution_count": 111,
   "source": [
    "def string_to_line_braille(text_str):\r\n",
    "    '''\r\n",
    "    converte texto em uma imagem em linha de braille\r\n",
    "\r\n",
    "    Args:\r\n",
    "        text_str (str) -- string de texto\r\n",
    "    \r\n",
    "    Return:\r\n",
    "        line_image (array) -- imagem do texto em braille\r\n",
    "    '''\r\n",
    "\r\n",
    "    list_caractere = list()\r\n",
    "\r\n",
    "    for caractere in text_str:\r\n",
    "        list_caractere.append(caractere_generator(caractere))\r\n",
    "    \r\n",
    "    return concatenate_caractere(list_caractere, axis = 1)"
   ],
   "outputs": [],
   "metadata": {}
  },
  {
   "cell_type": "code",
   "execution_count": 120,
   "source": [
    "def string_to_column_braille(list_texts):\r\n",
    "    '''\r\n",
    "    cria uma imagem em braille a partir de uma matriz de texto\r\n",
    "\r\n",
    "    Args:\r\n",
    "        list_text (list) -- lista com as linhas em braille\r\n",
    "\r\n",
    "    Returns:\r\n",
    "        image_braille (array) -- imagem em braille \r\n",
    "    '''\r\n",
    "\r\n",
    "    line_array = list()\r\n",
    "    for line in list_texts:\r\n",
    "        line_array.append(string_to_line_braille(line))\r\n",
    "    \r\n",
    "    return concatenate_caractere(line_array, axis = 0)\r\n"
   ],
   "outputs": [],
   "metadata": {}
  },
  {
   "cell_type": "markdown",
   "source": [
    "## 4. Teste da Classe\r\n",
    "***"
   ],
   "metadata": {}
  },
  {
   "cell_type": "code",
   "execution_count": 17,
   "source": [
    "from image_generator import image_generator\r\n",
    "\r\n",
    "gen_figure = image_generator()\r\n",
    "\r\n",
    "text = ['alysson machado de oliveira barbosa', \r\n",
    "        'francinildo barbosa figueiredo     ',\r\n",
    "        'iury caetano silva chagas          ']\r\n",
    "\r\n",
    "plt.figure(figsize = (20, 10))\r\n",
    "plt.imshow(gen_figure.string_to_column_braille(text), cmap = 'gray')\r\n",
    "plt.axis('off')\r\n",
    "image = Image.fromarray((gen_figure.string_to_column_braille(text) * 255).astype(np.uint8))\r\n",
    "image.save('image.tiff')\r\n",
    "#plt.savefig('image.tiff')"
   ],
   "outputs": [
    {
     "output_type": "display_data",
     "data": {
      "image/png": "[encoded data removed]",
      "text/plain": [
       "<Figure size 1440x720 with 1 Axes>"
      ]
     },
     "metadata": {
      "needs_background": "light"
     }
    }
   ],
   "metadata": {}
  },
  {
   "cell_type": "code",
   "execution_count": 14,
   "source": [],
   "outputs": [],
   "metadata": {}
  }
 ],
 "metadata": {
  "interpreter": {
   "hash": "1de5f8a4b5b587cbc145288bce217672fd590a96c616aba42da42832e697a42d"
  },
  "kernelspec": {
   "name": "python3",
   "display_name": "Python 3.8.8 64-bit ('base': conda)"
  },
  "language_info": {
   "codemirror_mode": {
    "name": "ipython",
    "version": 3
   },
   "file_extension": ".py",
   "mimetype": "text/x-python",
   "name": "python",
   "nbconvert_exporter": "python",
   "pygments_lexer": "ipython3",
   "version": "3.8.8"
  }
 },
 "nbformat": 4,
 "nbformat_minor": 2
}