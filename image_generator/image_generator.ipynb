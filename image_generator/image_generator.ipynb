{
 "cells": [
  {
   "cell_type": "markdown",
   "metadata": {},
   "source": [
    "# Gerador de Imagens\n",
    "***"
   ]
  },
  {
   "cell_type": "markdown",
   "metadata": {},
   "source": [
    "## Importações"
   ]
  },
  {
   "cell_type": "code",
   "execution_count": 1,
   "metadata": {},
   "outputs": [],
   "source": [
    "import numpy as np\n",
    "import skimage.morphology as sk\n",
    "import matplotlib.pyplot as plt"
   ]
  },
  {
   "cell_type": "markdown",
   "metadata": {},
   "source": [
    "## Funções Auxiliares "
   ]
  },
  {
   "cell_type": "code",
   "execution_count": 2,
   "metadata": {},
   "outputs": [],
   "source": [
    "def element_generator(radius=4, state=True):\n",
    "    ''''\n",
    "    Gera um furo (elemento) do caractere em braille.\n",
    "    \n",
    "    Entrada:\n",
    "    radius -> tamanho do raio do furo\n",
    "    state -> tipo de dado booleano que indica o estado do furo\n",
    "\n",
    "    Saída:\n",
    "    element -> array do elemento do caractere\n",
    "    '''\n",
    "\n",
    "    element = sk.disk(radius)\n",
    "\n",
    "    if state == True:\n",
    "        element[0, element.shape[1] // 2] = 0\n",
    "        element[-1, element.shape[1] // 2] = 0\n",
    "        element[element.shape[0] // 2, 0] = 0\n",
    "        element[element.shape[0] // 2, -1] = 0\n",
    "    else:\n",
    "        element = np.zeros(element.shape, dtype='uint8')\n",
    "    \n",
    "    return element "
   ]
  },
  {
   "cell_type": "code",
   "execution_count": 3,
   "metadata": {},
   "outputs": [],
   "source": [
    "def zero_padding(image, width=1):\n",
    "    '''\n",
    "    Adiciona zeros na borda de um array.\n",
    "\n",
    "    Entrada:\n",
    "    image -> array da imagem.\n",
    "    widht -> largura da borda em pixels.\n",
    "\n",
    "    Saída:\n",
    "    image -> imagem com as bordas adicionadas.\n",
    "    '''\n",
    "\n",
    "    image = np.pad(image, pad_width=width, mode='constant')\n",
    "\n",
    "    return image "
   ]
  },
  {
   "cell_type": "code",
   "execution_count": 4,
   "metadata": {},
   "outputs": [],
   "source": [
    "def make_caractere(encoded_image, radius=4, pad_width=1):\n",
    "    '''\n",
    "    Gera uma imagem do caractere em braille.\n",
    "\n",
    "    Entrada:\n",
    "    encoded_image -> array booleano indicando os pontos de furo.\n",
    "    radius -> raio do furo.\n",
    "    pad_width -> largura da borda de zeros em pixels.\n",
    "\n",
    "    Saída:\n",
    "    caractere -> array com a imagem do caractere em braille\n",
    "    '''\n",
    "    \n",
    "    caractere = [[np.concatenate((element_generator(radius, encoded_image[0][0]), \n",
    "                                  element_generator(radius, encoded_image[0][1])), axis=1)],\n",
    "                 [np.concatenate((element_generator(radius, encoded_image[1][0]), \n",
    "                                  element_generator(radius, encoded_image[1][1])), axis=1)],\n",
    "                 [np.concatenate((element_generator(radius, encoded_image[2][0]), \n",
    "                                  element_generator(radius, encoded_image[2][0])), axis=1)]]\n",
    "\n",
    "    caractere = np.concatenate((np.squeeze(caractere[0]),np.squeeze(caractere[1]), np.squeeze(caractere[2])))\n",
    "\n",
    "    caractere = zero_padding(caractere, width=pad_width)\n",
    "\n",
    "    \n",
    "    return caractere"
   ]
  },
  {
   "cell_type": "code",
   "execution_count": 5,
   "metadata": {},
   "outputs": [],
   "source": [
    "def reshape_encoded_image(flatten):\n",
    "    '''\n",
    "    Cria uma array com o formato do gabarito de furos em braille.\n",
    "    \n",
    "    Entrada:\n",
    "    flatten -> lista com a codificação dos furos.\n",
    "\n",
    "    Saída:\n",
    "    encoded_image -> imagem codificada no formato correto do gabarito.\n",
    "    '''\n",
    "\n",
    "    encoded_image = np.array(flatten, dtype='uint8')\n",
    "    encoded_image = encoded_image.reshape(3,2)\n",
    "    \n",
    "\n",
    "    return encoded_image"
   ]
  },
  {
   "cell_type": "code",
   "execution_count": 6,
   "metadata": {},
   "outputs": [],
   "source": [
    "def caractere_generator(flatten_image, radius=4, pad_width=3):\n",
    "    '''\n",
    "    Gera um caractere em braille a partir de um array codificado.\n",
    "\n",
    "    Entrada:\n",
    "    flatten_image -> lista codificada como one hot encoder do caractere em braille.\n",
    "    radius -> raio do furo presente no gabarito.\n",
    "    pad_width -> largura da borda de zeros presentes no caractere.\n",
    "\n",
    "    Saída:\n",
    "    caractere -> array com a imagem do caractere em braille.\n",
    "    '''\n",
    "\n",
    "    encoded_image = reshape_encoded_image(flatten_image)\n",
    "    caractere = make_caractere(encoded_image, radius, pad_width)\n",
    "\n",
    "    return caractere"
   ]
  },
  {
   "cell_type": "markdown",
   "metadata": {},
   "source": [
    "## Teste da Classe"
   ]
  },
  {
   "cell_type": "code",
   "execution_count": 8,
   "metadata": {},
   "outputs": [
    {
     "data": {
      "text/plain": [
       "<matplotlib.image.AxesImage at 0x22afc909880>"
      ]
     },
     "execution_count": 8,
     "metadata": {},
     "output_type": "execute_result"
    },
    {
     "data": {
      "image/png": "[encoded data removed]",
      "text/plain": [
       "<Figure size 432x288 with 1 Axes>"
      ]
     },
     "metadata": {
      "needs_background": "light"
     },
     "output_type": "display_data"
    }
   ],
   "source": [
    "import image_generator as gi\n",
    "constructor = gi.image_generator()\n",
    "plt.imshow(constructor.caractere_generator([1,1,0,0,0,0], radius=4, pad_width=3), cmap='gray')"
   ]
  },
  {
   "cell_type": "code",
   "execution_count": null,
   "metadata": {},
   "outputs": [],
   "source": []
  }
 ],
 "metadata": {
  "interpreter": {
   "hash": "836df398001d1aac78eb9ff390cb7b1b5ffe100f888216d214368cf555e342d0"
  },
  "kernelspec": {
   "display_name": "Python 3 (ipykernel)",
   "language": "python",
   "name": "python3"
  },
  "language_info": {
   "codemirror_mode": {
    "name": "ipython",
    "version": 3
   },
   "file_extension": ".py",
   "mimetype": "text/x-python",
   "name": "python",
   "nbconvert_exporter": "python",
   "pygments_lexer": "ipython3",
   "version": "3.9.6"
  }
 },
 "nbformat": 4,
 "nbformat_minor": 2
}
